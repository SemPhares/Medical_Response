{
 "cells": [
  {
   "cell_type": "code",
   "execution_count": 630,
   "metadata": {},
   "outputs": [],
   "source": [
    "import pandas as pd\n",
    "import numpy as np\n",
    "import seaborn as sns\n",
    "from matplotlib import pyplot as plt\n",
    "\n",
    "from sklearn.model_selection import train_test_split, GridSearchCV\n",
    "from sklearn.preprocessing import MinMaxScaler\n",
    "from sklearn.decomposition import PCA\n",
    "from sklearn.manifold import TSNE\n",
    "from sklearn.ensemble import RandomForestClassifier\n",
    "from sklearn.linear_model import LogisticRegression\n",
    "from xgboost import XGBClassifier\n",
    "from lightgbm import LGBMClassifier\n",
    "from sklearn.metrics import log_loss,classification_report\n"
   ]
  },
  {
   "cell_type": "code",
   "execution_count": 551,
   "metadata": {},
   "outputs": [],
   "source": [
    "import warnings\n",
    "warnings.filterwarnings('ignore')"
   ]
  },
  {
   "cell_type": "code",
   "execution_count": 552,
   "metadata": {},
   "outputs": [],
   "source": [
    "train = pd.read_csv(\"train.csv\")\n",
    "test = pd.read_csv('test.csv')\n",
    "\n",
    "X = train.drop(\"Activity\", axis=1)\n",
    "Y = train.Activity"
   ]
  },
  {
   "cell_type": "code",
   "execution_count": 274,
   "metadata": {},
   "outputs": [
    {
     "data": {
      "text/html": [
       "<div>\n",
       "<style scoped>\n",
       "    .dataframe tbody tr th:only-of-type {\n",
       "        vertical-align: middle;\n",
       "    }\n",
       "\n",
       "    .dataframe tbody tr th {\n",
       "        vertical-align: top;\n",
       "    }\n",
       "\n",
       "    .dataframe thead th {\n",
       "        text-align: right;\n",
       "    }\n",
       "</style>\n",
       "<table border=\"1\" class=\"dataframe\">\n",
       "  <thead>\n",
       "    <tr style=\"text-align: right;\">\n",
       "      <th></th>\n",
       "      <th>Activity</th>\n",
       "      <th>D1</th>\n",
       "      <th>D2</th>\n",
       "      <th>D3</th>\n",
       "      <th>D4</th>\n",
       "      <th>D5</th>\n",
       "      <th>D6</th>\n",
       "      <th>D7</th>\n",
       "      <th>D8</th>\n",
       "      <th>D9</th>\n",
       "      <th>...</th>\n",
       "      <th>D1767</th>\n",
       "      <th>D1768</th>\n",
       "      <th>D1769</th>\n",
       "      <th>D1770</th>\n",
       "      <th>D1771</th>\n",
       "      <th>D1772</th>\n",
       "      <th>D1773</th>\n",
       "      <th>D1774</th>\n",
       "      <th>D1775</th>\n",
       "      <th>D1776</th>\n",
       "    </tr>\n",
       "  </thead>\n",
       "  <tbody>\n",
       "    <tr>\n",
       "      <th>0</th>\n",
       "      <td>1</td>\n",
       "      <td>0.000000</td>\n",
       "      <td>0.497009</td>\n",
       "      <td>0.10</td>\n",
       "      <td>0.0</td>\n",
       "      <td>0.132956</td>\n",
       "      <td>0.678031</td>\n",
       "      <td>0.273166</td>\n",
       "      <td>0.585445</td>\n",
       "      <td>0.743663</td>\n",
       "      <td>...</td>\n",
       "      <td>0</td>\n",
       "      <td>0</td>\n",
       "      <td>0</td>\n",
       "      <td>0</td>\n",
       "      <td>0</td>\n",
       "      <td>0</td>\n",
       "      <td>0</td>\n",
       "      <td>0</td>\n",
       "      <td>0</td>\n",
       "      <td>0</td>\n",
       "    </tr>\n",
       "    <tr>\n",
       "      <th>1</th>\n",
       "      <td>1</td>\n",
       "      <td>0.366667</td>\n",
       "      <td>0.606291</td>\n",
       "      <td>0.05</td>\n",
       "      <td>0.0</td>\n",
       "      <td>0.111209</td>\n",
       "      <td>0.803455</td>\n",
       "      <td>0.106105</td>\n",
       "      <td>0.411754</td>\n",
       "      <td>0.836582</td>\n",
       "      <td>...</td>\n",
       "      <td>1</td>\n",
       "      <td>1</td>\n",
       "      <td>1</td>\n",
       "      <td>1</td>\n",
       "      <td>0</td>\n",
       "      <td>1</td>\n",
       "      <td>0</td>\n",
       "      <td>0</td>\n",
       "      <td>1</td>\n",
       "      <td>0</td>\n",
       "    </tr>\n",
       "    <tr>\n",
       "      <th>2</th>\n",
       "      <td>1</td>\n",
       "      <td>0.033300</td>\n",
       "      <td>0.480124</td>\n",
       "      <td>0.00</td>\n",
       "      <td>0.0</td>\n",
       "      <td>0.209791</td>\n",
       "      <td>0.610350</td>\n",
       "      <td>0.356453</td>\n",
       "      <td>0.517720</td>\n",
       "      <td>0.679051</td>\n",
       "      <td>...</td>\n",
       "      <td>0</td>\n",
       "      <td>0</td>\n",
       "      <td>0</td>\n",
       "      <td>0</td>\n",
       "      <td>0</td>\n",
       "      <td>0</td>\n",
       "      <td>0</td>\n",
       "      <td>0</td>\n",
       "      <td>0</td>\n",
       "      <td>0</td>\n",
       "    </tr>\n",
       "    <tr>\n",
       "      <th>3</th>\n",
       "      <td>1</td>\n",
       "      <td>0.000000</td>\n",
       "      <td>0.538825</td>\n",
       "      <td>0.00</td>\n",
       "      <td>0.5</td>\n",
       "      <td>0.196344</td>\n",
       "      <td>0.724230</td>\n",
       "      <td>0.235606</td>\n",
       "      <td>0.288764</td>\n",
       "      <td>0.805110</td>\n",
       "      <td>...</td>\n",
       "      <td>0</td>\n",
       "      <td>0</td>\n",
       "      <td>0</td>\n",
       "      <td>0</td>\n",
       "      <td>0</td>\n",
       "      <td>0</td>\n",
       "      <td>0</td>\n",
       "      <td>0</td>\n",
       "      <td>0</td>\n",
       "      <td>0</td>\n",
       "    </tr>\n",
       "    <tr>\n",
       "      <th>4</th>\n",
       "      <td>0</td>\n",
       "      <td>0.100000</td>\n",
       "      <td>0.517794</td>\n",
       "      <td>0.00</td>\n",
       "      <td>0.0</td>\n",
       "      <td>0.494734</td>\n",
       "      <td>0.781422</td>\n",
       "      <td>0.154361</td>\n",
       "      <td>0.303809</td>\n",
       "      <td>0.812646</td>\n",
       "      <td>...</td>\n",
       "      <td>0</td>\n",
       "      <td>0</td>\n",
       "      <td>0</td>\n",
       "      <td>0</td>\n",
       "      <td>0</td>\n",
       "      <td>0</td>\n",
       "      <td>0</td>\n",
       "      <td>0</td>\n",
       "      <td>0</td>\n",
       "      <td>0</td>\n",
       "    </tr>\n",
       "  </tbody>\n",
       "</table>\n",
       "<p>5 rows × 1777 columns</p>\n",
       "</div>"
      ],
      "text/plain": [
       "   Activity        D1        D2    D3   D4        D5        D6        D7  \\\n",
       "0         1  0.000000  0.497009  0.10  0.0  0.132956  0.678031  0.273166   \n",
       "1         1  0.366667  0.606291  0.05  0.0  0.111209  0.803455  0.106105   \n",
       "2         1  0.033300  0.480124  0.00  0.0  0.209791  0.610350  0.356453   \n",
       "3         1  0.000000  0.538825  0.00  0.5  0.196344  0.724230  0.235606   \n",
       "4         0  0.100000  0.517794  0.00  0.0  0.494734  0.781422  0.154361   \n",
       "\n",
       "         D8        D9  ...  D1767  D1768  D1769  D1770  D1771  D1772  D1773  \\\n",
       "0  0.585445  0.743663  ...      0      0      0      0      0      0      0   \n",
       "1  0.411754  0.836582  ...      1      1      1      1      0      1      0   \n",
       "2  0.517720  0.679051  ...      0      0      0      0      0      0      0   \n",
       "3  0.288764  0.805110  ...      0      0      0      0      0      0      0   \n",
       "4  0.303809  0.812646  ...      0      0      0      0      0      0      0   \n",
       "\n",
       "   D1774  D1775  D1776  \n",
       "0      0      0      0  \n",
       "1      0      1      0  \n",
       "2      0      0      0  \n",
       "3      0      0      0  \n",
       "4      0      0      0  \n",
       "\n",
       "[5 rows x 1777 columns]"
      ]
     },
     "execution_count": 274,
     "metadata": {},
     "output_type": "execute_result"
    }
   ],
   "source": [
    "train.head()"
   ]
  },
  {
   "cell_type": "markdown",
   "metadata": {},
   "source": [
    "## EDA"
   ]
  },
  {
   "cell_type": "code",
   "execution_count": 279,
   "metadata": {},
   "outputs": [
    {
     "data": {
      "text/plain": [
       "0"
      ]
     },
     "execution_count": 279,
     "metadata": {},
     "output_type": "execute_result"
    }
   ],
   "source": [
    "X.isnull().sum().sum()"
   ]
  },
  {
   "cell_type": "code",
   "execution_count": 631,
   "metadata": {},
   "outputs": [
    {
     "data": {
      "image/png": "[encoded data removed]",
      "text/plain": [
       "<Figure size 432x288 with 1 Axes>"
      ]
     },
     "metadata": {
      "needs_background": "light"
     },
     "output_type": "display_data"
    }
   ],
   "source": [
    "sns.countplot(Y)\n",
    "plt.show()"
   ]
  },
  {
   "cell_type": "code",
   "execution_count": 297,
   "metadata": {},
   "outputs": [],
   "source": [
    "from collections import Counter"
   ]
  },
  {
   "cell_type": "code",
   "execution_count": 308,
   "metadata": {},
   "outputs": [
    {
     "data": {
      "text/plain": [
       "{2: 835, 3: 59, 4: 87, 5: 113, 6: 84, 7: 76, 8: 59, 9: 44, 10: 44, 11: 45}"
      ]
     },
     "execution_count": 308,
     "metadata": {},
     "output_type": "execute_result"
    }
   ],
   "source": [
    "s = Counter([len(X[col].unique()) for col in X.columns])\n",
    "count_cols_unique = sorted(list(set([len(X[col].unique()) for col in X.columns])))\n",
    "d ={your_key: s[your_key] for your_key in count_cols_unique[:10] }\n",
    "d"
   ]
  },
  {
   "cell_type": "markdown",
   "metadata": {},
   "source": [
    "Il y a beaucoup de colonnes à valeurs binaires. Ceci pourrait être un problème de feature engineering"
   ]
  },
  {
   "cell_type": "code",
   "execution_count": 583,
   "metadata": {},
   "outputs": [],
   "source": [
    "non_binaries = [col for col in X.columns if len(X[col].unique())>2]\n",
    "binaries = [col for col in X.columns if not col in non_binaries]"
   ]
  },
  {
   "cell_type": "code",
   "execution_count": 310,
   "metadata": {},
   "outputs": [
    {
     "name": "stdout",
     "output_type": "stream",
     "text": [
      "Il y a 941 colonnes non binaires\n",
      "Il y a 835 colonnes binaires\n"
     ]
    }
   ],
   "source": [
    "print(f'Il y a {len(non_binaries)} colonnes non binaires')\n",
    "print(f'Il y a {len(binaries)} colonnes binaires')"
   ]
  },
  {
   "cell_type": "code",
   "execution_count": 311,
   "metadata": {},
   "outputs": [
    {
     "data": {
      "text/html": [
       "<div>\n",
       "<style scoped>\n",
       "    .dataframe tbody tr th:only-of-type {\n",
       "        vertical-align: middle;\n",
       "    }\n",
       "\n",
       "    .dataframe tbody tr th {\n",
       "        vertical-align: top;\n",
       "    }\n",
       "\n",
       "    .dataframe thead th {\n",
       "        text-align: right;\n",
       "    }\n",
       "</style>\n",
       "<table border=\"1\" class=\"dataframe\">\n",
       "  <thead>\n",
       "    <tr style=\"text-align: right;\">\n",
       "      <th></th>\n",
       "      <th>D1</th>\n",
       "      <th>D2</th>\n",
       "      <th>D3</th>\n",
       "      <th>D4</th>\n",
       "      <th>D5</th>\n",
       "      <th>D6</th>\n",
       "      <th>D7</th>\n",
       "      <th>D8</th>\n",
       "      <th>D9</th>\n",
       "      <th>D10</th>\n",
       "      <th>...</th>\n",
       "      <th>D942</th>\n",
       "      <th>D943</th>\n",
       "      <th>D944</th>\n",
       "      <th>D945</th>\n",
       "      <th>D946</th>\n",
       "      <th>D947</th>\n",
       "      <th>D948</th>\n",
       "      <th>D949</th>\n",
       "      <th>D950</th>\n",
       "      <th>D951</th>\n",
       "    </tr>\n",
       "  </thead>\n",
       "  <tbody>\n",
       "    <tr>\n",
       "      <th>count</th>\n",
       "      <td>3751.000000</td>\n",
       "      <td>3751.000000</td>\n",
       "      <td>3751.000000</td>\n",
       "      <td>3751.000000</td>\n",
       "      <td>3751.000000</td>\n",
       "      <td>3751.000000</td>\n",
       "      <td>3751.000000</td>\n",
       "      <td>3751.000000</td>\n",
       "      <td>3751.000000</td>\n",
       "      <td>3751.000000</td>\n",
       "      <td>...</td>\n",
       "      <td>3751.000000</td>\n",
       "      <td>3751.000000</td>\n",
       "      <td>3751.000000</td>\n",
       "      <td>3751.000000</td>\n",
       "      <td>3751.000000</td>\n",
       "      <td>3751.000000</td>\n",
       "      <td>3751.000000</td>\n",
       "      <td>3751.000000</td>\n",
       "      <td>3751.000000</td>\n",
       "      <td>3751.000000</td>\n",
       "    </tr>\n",
       "    <tr>\n",
       "      <th>mean</th>\n",
       "      <td>0.076948</td>\n",
       "      <td>0.592436</td>\n",
       "      <td>0.068142</td>\n",
       "      <td>0.038990</td>\n",
       "      <td>0.212112</td>\n",
       "      <td>0.686653</td>\n",
       "      <td>0.274713</td>\n",
       "      <td>0.455133</td>\n",
       "      <td>0.749517</td>\n",
       "      <td>0.270411</td>\n",
       "      <td>...</td>\n",
       "      <td>0.005972</td>\n",
       "      <td>0.003566</td>\n",
       "      <td>0.002522</td>\n",
       "      <td>0.003599</td>\n",
       "      <td>0.001706</td>\n",
       "      <td>0.073312</td>\n",
       "      <td>0.003718</td>\n",
       "      <td>0.144028</td>\n",
       "      <td>0.092621</td>\n",
       "      <td>0.147179</td>\n",
       "    </tr>\n",
       "    <tr>\n",
       "      <th>std</th>\n",
       "      <td>0.079989</td>\n",
       "      <td>0.105860</td>\n",
       "      <td>0.078414</td>\n",
       "      <td>0.115885</td>\n",
       "      <td>0.102592</td>\n",
       "      <td>0.078702</td>\n",
       "      <td>0.090017</td>\n",
       "      <td>0.162731</td>\n",
       "      <td>0.071702</td>\n",
       "      <td>0.096128</td>\n",
       "      <td>...</td>\n",
       "      <td>0.052931</td>\n",
       "      <td>0.041530</td>\n",
       "      <td>0.028999</td>\n",
       "      <td>0.044159</td>\n",
       "      <td>0.026279</td>\n",
       "      <td>0.089265</td>\n",
       "      <td>0.035645</td>\n",
       "      <td>0.099207</td>\n",
       "      <td>0.077216</td>\n",
       "      <td>0.099669</td>\n",
       "    </tr>\n",
       "    <tr>\n",
       "      <th>min</th>\n",
       "      <td>0.000000</td>\n",
       "      <td>0.282128</td>\n",
       "      <td>0.000000</td>\n",
       "      <td>0.000000</td>\n",
       "      <td>0.002630</td>\n",
       "      <td>0.137873</td>\n",
       "      <td>0.006130</td>\n",
       "      <td>0.000000</td>\n",
       "      <td>0.275590</td>\n",
       "      <td>0.003040</td>\n",
       "      <td>...</td>\n",
       "      <td>0.000000</td>\n",
       "      <td>0.000000</td>\n",
       "      <td>0.000000</td>\n",
       "      <td>0.000000</td>\n",
       "      <td>0.000000</td>\n",
       "      <td>0.000000</td>\n",
       "      <td>0.000000</td>\n",
       "      <td>0.000000</td>\n",
       "      <td>0.000000</td>\n",
       "      <td>0.000000</td>\n",
       "    </tr>\n",
       "    <tr>\n",
       "      <th>25%</th>\n",
       "      <td>0.033300</td>\n",
       "      <td>0.517811</td>\n",
       "      <td>0.000000</td>\n",
       "      <td>0.000000</td>\n",
       "      <td>0.138118</td>\n",
       "      <td>0.625627</td>\n",
       "      <td>0.207374</td>\n",
       "      <td>0.378062</td>\n",
       "      <td>0.707339</td>\n",
       "      <td>0.194357</td>\n",
       "      <td>...</td>\n",
       "      <td>0.000000</td>\n",
       "      <td>0.000000</td>\n",
       "      <td>0.000000</td>\n",
       "      <td>0.000000</td>\n",
       "      <td>0.000000</td>\n",
       "      <td>0.025600</td>\n",
       "      <td>0.000000</td>\n",
       "      <td>0.125000</td>\n",
       "      <td>0.035700</td>\n",
       "      <td>0.088900</td>\n",
       "    </tr>\n",
       "    <tr>\n",
       "      <th>50%</th>\n",
       "      <td>0.066700</td>\n",
       "      <td>0.585989</td>\n",
       "      <td>0.050000</td>\n",
       "      <td>0.000000</td>\n",
       "      <td>0.190926</td>\n",
       "      <td>0.674037</td>\n",
       "      <td>0.277845</td>\n",
       "      <td>0.499942</td>\n",
       "      <td>0.738961</td>\n",
       "      <td>0.284316</td>\n",
       "      <td>...</td>\n",
       "      <td>0.000000</td>\n",
       "      <td>0.000000</td>\n",
       "      <td>0.000000</td>\n",
       "      <td>0.000000</td>\n",
       "      <td>0.000000</td>\n",
       "      <td>0.051300</td>\n",
       "      <td>0.000000</td>\n",
       "      <td>0.125000</td>\n",
       "      <td>0.071400</td>\n",
       "      <td>0.133333</td>\n",
       "    </tr>\n",
       "    <tr>\n",
       "      <th>75%</th>\n",
       "      <td>0.100000</td>\n",
       "      <td>0.668395</td>\n",
       "      <td>0.100000</td>\n",
       "      <td>0.000000</td>\n",
       "      <td>0.261726</td>\n",
       "      <td>0.740663</td>\n",
       "      <td>0.335816</td>\n",
       "      <td>0.569962</td>\n",
       "      <td>0.788177</td>\n",
       "      <td>0.344626</td>\n",
       "      <td>...</td>\n",
       "      <td>0.000000</td>\n",
       "      <td>0.000000</td>\n",
       "      <td>0.000000</td>\n",
       "      <td>0.000000</td>\n",
       "      <td>0.000000</td>\n",
       "      <td>0.102564</td>\n",
       "      <td>0.000000</td>\n",
       "      <td>0.125000</td>\n",
       "      <td>0.107143</td>\n",
       "      <td>0.177778</td>\n",
       "    </tr>\n",
       "    <tr>\n",
       "      <th>max</th>\n",
       "      <td>1.000000</td>\n",
       "      <td>0.964381</td>\n",
       "      <td>0.950000</td>\n",
       "      <td>1.000000</td>\n",
       "      <td>1.000000</td>\n",
       "      <td>0.994735</td>\n",
       "      <td>0.790831</td>\n",
       "      <td>0.989870</td>\n",
       "      <td>1.000000</td>\n",
       "      <td>1.000000</td>\n",
       "      <td>...</td>\n",
       "      <td>1.000000</td>\n",
       "      <td>1.000000</td>\n",
       "      <td>1.000000</td>\n",
       "      <td>1.000000</td>\n",
       "      <td>1.000000</td>\n",
       "      <td>1.000000</td>\n",
       "      <td>0.916667</td>\n",
       "      <td>0.875000</td>\n",
       "      <td>1.000000</td>\n",
       "      <td>0.955556</td>\n",
       "    </tr>\n",
       "  </tbody>\n",
       "</table>\n",
       "<p>8 rows × 941 columns</p>\n",
       "</div>"
      ],
      "text/plain": [
       "                D1           D2           D3           D4           D5  \\\n",
       "count  3751.000000  3751.000000  3751.000000  3751.000000  3751.000000   \n",
       "mean      0.076948     0.592436     0.068142     0.038990     0.212112   \n",
       "std       0.079989     0.105860     0.078414     0.115885     0.102592   \n",
       "min       0.000000     0.282128     0.000000     0.000000     0.002630   \n",
       "25%       0.033300     0.517811     0.000000     0.000000     0.138118   \n",
       "50%       0.066700     0.585989     0.050000     0.000000     0.190926   \n",
       "75%       0.100000     0.668395     0.100000     0.000000     0.261726   \n",
       "max       1.000000     0.964381     0.950000     1.000000     1.000000   \n",
       "\n",
       "                D6           D7           D8           D9          D10  ...  \\\n",
       "count  3751.000000  3751.000000  3751.000000  3751.000000  3751.000000  ...   \n",
       "mean      0.686653     0.274713     0.455133     0.749517     0.270411  ...   \n",
       "std       0.078702     0.090017     0.162731     0.071702     0.096128  ...   \n",
       "min       0.137873     0.006130     0.000000     0.275590     0.003040  ...   \n",
       "25%       0.625627     0.207374     0.378062     0.707339     0.194357  ...   \n",
       "50%       0.674037     0.277845     0.499942     0.738961     0.284316  ...   \n",
       "75%       0.740663     0.335816     0.569962     0.788177     0.344626  ...   \n",
       "max       0.994735     0.790831     0.989870     1.000000     1.000000  ...   \n",
       "\n",
       "              D942         D943         D944         D945         D946  \\\n",
       "count  3751.000000  3751.000000  3751.000000  3751.000000  3751.000000   \n",
       "mean      0.005972     0.003566     0.002522     0.003599     0.001706   \n",
       "std       0.052931     0.041530     0.028999     0.044159     0.026279   \n",
       "min       0.000000     0.000000     0.000000     0.000000     0.000000   \n",
       "25%       0.000000     0.000000     0.000000     0.000000     0.000000   \n",
       "50%       0.000000     0.000000     0.000000     0.000000     0.000000   \n",
       "75%       0.000000     0.000000     0.000000     0.000000     0.000000   \n",
       "max       1.000000     1.000000     1.000000     1.000000     1.000000   \n",
       "\n",
       "              D947         D948         D949         D950         D951  \n",
       "count  3751.000000  3751.000000  3751.000000  3751.000000  3751.000000  \n",
       "mean      0.073312     0.003718     0.144028     0.092621     0.147179  \n",
       "std       0.089265     0.035645     0.099207     0.077216     0.099669  \n",
       "min       0.000000     0.000000     0.000000     0.000000     0.000000  \n",
       "25%       0.025600     0.000000     0.125000     0.035700     0.088900  \n",
       "50%       0.051300     0.000000     0.125000     0.071400     0.133333  \n",
       "75%       0.102564     0.000000     0.125000     0.107143     0.177778  \n",
       "max       1.000000     0.916667     0.875000     1.000000     0.955556  \n",
       "\n",
       "[8 rows x 941 columns]"
      ]
     },
     "execution_count": 311,
     "metadata": {},
     "output_type": "execute_result"
    }
   ],
   "source": [
    "train[non_binaries].describe()"
   ]
  },
  {
   "cell_type": "markdown",
   "metadata": {},
   "source": [
    "Search for correlation"
   ]
  },
  {
   "cell_type": "code",
   "execution_count": null,
   "metadata": {},
   "outputs": [],
   "source": [
    "cor = train.corr()"
   ]
  },
  {
   "cell_type": "code",
   "execution_count": 556,
   "metadata": {},
   "outputs": [],
   "source": [
    "def get_correlated_features(cor:pd.DataFrame,threshold:float):\n",
    "    \"\"\"\n",
    "    Return correlated features over a given Threshold\n",
    "    cor : pearson correlation dataframe\n",
    "    threshold : correlation Threshold \n",
    "    \"\"\"\n",
    "    #get max correlated columns index\n",
    "    Argmax = cor[cor!=1].replace(np.nan,0).apply(lambda x: np.argmax(np.abs(x)))\n",
    "    #get the argmax correlation value \n",
    "    Cor = [cor.iloc[i:i+1,Argmax[i]:Argmax[i]+1].values[0][0] for i in range(len(Argmax))]\n",
    "    #get the argmax colname\n",
    "    Col = [cor.columns[Argmax[i]] for i in range(len(Argmax))]\n",
    "    \n",
    "    max_cor = pd.DataFrame({'Argmax':Argmax, 'Cor':Cor, 'Col':Col}).sort_values('Cor')\n",
    "    max_cor.reset_index(inplace=True)\n",
    "    too_correlated = max_cor[(max_cor.Cor>=threshold)|(max_cor.Cor<=-threshold)].drop_duplicates('Cor')\n",
    "    \n",
    "    return too_correlated"
   ]
  },
  {
   "cell_type": "code",
   "execution_count": 212,
   "metadata": {},
   "outputs": [],
   "source": [
    "too_correlated = get_correlated_features(cor,0.9)"
   ]
  },
  {
   "cell_type": "code",
   "execution_count": 555,
   "metadata": {},
   "outputs": [],
   "source": [
    "from sklearn.feature_selection import mutual_info_classif, SelectFromModel,SelectKBest,chi2"
   ]
  },
  {
   "cell_type": "code",
   "execution_count": 554,
   "metadata": {},
   "outputs": [],
   "source": [
    "def get_Mutual_Info_With_Y(X,Y,threshold):\n",
    "    \"\"\"\n",
    "    Return Mutual_Info_ of X's features With_Y over a given threshold\n",
    "    X : features dataframe\n",
    "    Y : target\n",
    "    threshold : Mutual Info Threshold \n",
    "    \"\"\"\n",
    "    ft_selec = mutual_info_classif(X, Y , discrete_features='auto', n_neighbors=3 ,random_state=42)\n",
    "    mi = pd.DataFrame({'Col':X.columns,'Mutual_Info_With_Y':ft_selec})\n",
    "    mi = mi[mi.Mutual_Info_With_Y>=threshold].sort_values(\"Mutual_Info_With_Y\",ascending=False)\n",
    "    return mi\n",
    "\n",
    "def get_chi2_best_features(X,Y,n):\n",
    "    \"\"\"\n",
    "    Return n best features based on chi2 score\n",
    "    X : features dataframe\n",
    "    Y : target\n",
    "    n : number of features \n",
    "    \"\"\"\n",
    "#     X_norm = MinMaxScaler().fit_transform(X)\n",
    "    selector = SelectKBest(chi2, k=n).fit(X, Y)\n",
    "    mask = selector.get_support()\n",
    "    return X.columns[mask].tolist()\n",
    "\n",
    "def get_best_features_tree_based_model(model,X,Y,n):\n",
    "    \"\"\"\n",
    "    Return n best features based on model score\n",
    "    model : model \n",
    "    X : features dataframe\n",
    "    Y : target\n",
    "    n : number of features \n",
    "    \"\"\"\n",
    "    embeded_selector = SelectFromModel(model, max_features=n)\n",
    "    embeded_selector.fit(X, Y)\n",
    "    mask = embeded_selector.get_support()\n",
    "    return X.columns[mask].tolist()"
   ]
  },
  {
   "cell_type": "code",
   "execution_count": 584,
   "metadata": {},
   "outputs": [],
   "source": [
    "mi_features = get_Mutual_Info_With_Y(X,Y,0.05)['Col'].tolist()\n",
    "best_chi2_features = get_chi2_best_features(X,Y,200)\n",
    "\n",
    "best_inter = list(set(mi_features)&set(best_chi2_features))\n",
    "best_union = list(set(mi_features+best_chi2_features))"
   ]
  },
  {
   "cell_type": "code",
   "execution_count": 7,
   "metadata": {},
   "outputs": [
    {
     "data": {
      "text/plain": [
       "['D64', 'D27', 'D61']"
      ]
     },
     "execution_count": 7,
     "metadata": {},
     "output_type": "execute_result"
    }
   ],
   "source": [
    "best_inter"
   ]
  },
  {
   "cell_type": "markdown",
   "metadata": {},
   "source": [
    "##### Recherche de outlier"
   ]
  },
  {
   "cell_type": "code",
   "execution_count": 327,
   "metadata": {},
   "outputs": [
    {
     "data": {
      "text/plain": [
       "<AxesSubplot:>"
      ]
     },
     "execution_count": 327,
     "metadata": {},
     "output_type": "execute_result"
    },
    {
     "data": {
      "image/png": "[encoded data removed]",
      "text/plain": [
       "<Figure size 432x288 with 1 Axes>"
      ]
     },
     "metadata": {
      "needs_background": "light"
     },
     "output_type": "display_data"
    }
   ],
   "source": [
    "train.D3.plot.box()"
   ]
  },
  {
   "cell_type": "code",
   "execution_count": 328,
   "metadata": {},
   "outputs": [
    {
     "data": {
      "text/plain": [
       "(4, 1777)"
      ]
     },
     "execution_count": 328,
     "metadata": {},
     "output_type": "execute_result"
    }
   ],
   "source": [
    "train[train.D3>=0.6].shape"
   ]
  },
  {
   "cell_type": "markdown",
   "metadata": {},
   "source": [
    "On note qu'il ya beaucoup de outliers et des ditribution en skew et cela pourrait potentillement baiser le split en train test et aussi les perfomances d'un modèle linéaire. <br>\n",
    "Toutefois, compte tenu du très peu de nombre lignes que nous avons, il ne serait pas judicieux de les supprimer pour le moment."
   ]
  },
  {
   "cell_type": "markdown",
   "metadata": {},
   "source": [
    "## ACP"
   ]
  },
  {
   "cell_type": "code",
   "execution_count": 342,
   "metadata": {},
   "outputs": [
    {
     "data": {
      "image/png": "[encoded data removed]",
      "text/plain": [
       "<Figure size 432x288 with 1 Axes>"
      ]
     },
     "metadata": {
      "needs_background": "light"
     },
     "output_type": "display_data"
    }
   ],
   "source": [
    "train_embedded = PCA(100, random_state=42).fit_transform(X)\n",
    "plt.scatter(train_embedded[:,0],train_embedded[:,1],c=train.Activity.values)\n",
    "plt.show()"
   ]
  },
  {
   "cell_type": "code",
   "execution_count": 341,
   "metadata": {},
   "outputs": [
    {
     "data": {
      "image/png": "[encoded data removed]",
      "text/plain": [
       "<Figure size 432x288 with 1 Axes>"
      ]
     },
     "metadata": {
      "needs_background": "light"
     },
     "output_type": "display_data"
    }
   ],
   "source": [
    "#acp sur les colonnes binaires uniquement\n",
    "train_embedded = PCA(100,random_state=42).fit_transform(X[binaries])\n",
    "plt.scatter(train_embedded[:,0],train_embedded[:,1],c=train.Activity.values)\n",
    "plt.show()"
   ]
  },
  {
   "cell_type": "code",
   "execution_count": 340,
   "metadata": {},
   "outputs": [
    {
     "data": {
      "image/png": "[encoded data removed]",
      "text/plain": [
       "<Figure size 432x288 with 1 Axes>"
      ]
     },
     "metadata": {
      "needs_background": "light"
     },
     "output_type": "display_data"
    }
   ],
   "source": [
    "#acp sur les colonnes non binaires uniquement\n",
    "train_embedded = PCA(100,random_state=42).fit_transform(X[non_binaries])\n",
    "plt.scatter(train_embedded[:,0],train_embedded[:,1],c=train.Activity.values)\n",
    "plt.show()"
   ]
  },
  {
   "cell_type": "markdown",
   "metadata": {},
   "source": [
    "L'acp ne permet pas de faire la séparation des classes certainement dû à l'hypoyhèse de linéarité, d'autant plus que nous avons beaucoup de colonnes one-hot encodées. <br>\n",
    "Lorsqu'on utilise uniquement les colonnes non-bianiares on remarque que le jeu de données n'est pas séparable, ou du mois, moins bien qu'avec la totalité des données. <br>\n",
    "On peut conclure que les colonnes non binaires seules ne suffisent pas pour expliquer les classes."
   ]
  },
  {
   "cell_type": "code",
   "execution_count": 370,
   "metadata": {},
   "outputs": [],
   "source": [
    "def get_eigv_df(X_train:pd.DataFrame,dim:int):\n",
    "\n",
    "    \"\"\"\n",
    "    plot the explained variance given the number of dimension of the PCA\n",
    "    X_train : X DataFrame to reduce\n",
    "    dim : number of dimension for the PCA\n",
    "    \"\"\"\n",
    "\n",
    "    pca = PCA(dim).fit(X_train)\n",
    "\n",
    "    eigv_df = pd.DataFrame({'dimension' : ['dim' + str(x+1) for x in range(dim)],\n",
    "        'explained_var': pca.explained_variance_,\n",
    "        '%_explained_var': np.round(pca.explained_variance_ratio_*100),\n",
    "        '%_cumulative_explained_var': np.round(np.cumsum(pca.explained_variance_ratio_)*100)\n",
    "        })\n",
    "        \n",
    "    fig, (ax1,ax2) = plt.subplots(1,2, figsize = (20,5))\n",
    "    ax1.bar(eigv_df.dimension, eigv_df['%_explained_var'])\n",
    "    ax1.set_title('Explained var'+str(dim))\n",
    "    ax1.get_xaxis().set_visible(False)\n",
    "    \n",
    "    ax2.bar(eigv_df.dimension, eigv_df['%_cumulative_explained_var'])\n",
    "    ax2.set_title('Cumu Explained var'+str(dim))\n",
    "    m = max(eigv_df['%_cumulative_explained_var'])\n",
    "    ax2.axhline(y = m, linewidth=0.5, color='red',linestyle='--')\n",
    "    ax2.get_xaxis().set_visible(False)\n",
    "    plt.text(dim,m+1,str(m)+'%')\n",
    "    plt.show()\n",
    "\n"
   ]
  },
  {
   "cell_type": "code",
   "execution_count": 371,
   "metadata": {},
   "outputs": [
    {
     "data": {
      "image/png": "[encoded data removed]",
      "text/plain": [
       "<Figure size 1440x360 with 2 Axes>"
      ]
     },
     "metadata": {
      "needs_background": "light"
     },
     "output_type": "display_data"
    }
   ],
   "source": [
    "get_eigv_df(X,100)"
   ]
  },
  {
   "cell_type": "code",
   "execution_count": 254,
   "metadata": {},
   "outputs": [
    {
     "data": {
      "image/png": "[encoded data removed]",
      "text/plain": [
       "<Figure size 1440x360 with 2 Axes>"
      ]
     },
     "metadata": {
      "needs_background": "light"
     },
     "output_type": "display_data"
    }
   ],
   "source": [
    "get_eigv_df(X,200)"
   ]
  },
  {
   "cell_type": "code",
   "execution_count": 255,
   "metadata": {},
   "outputs": [
    {
     "data": {
      "image/png": "[encoded data removed]",
      "text/plain": [
       "<Figure size 1440x360 with 2 Axes>"
      ]
     },
     "metadata": {
      "needs_background": "light"
     },
     "output_type": "display_data"
    }
   ],
   "source": [
    "get_eigv_df(X,300)"
   ]
  },
  {
   "cell_type": "code",
   "execution_count": 257,
   "metadata": {},
   "outputs": [
    {
     "data": {
      "image/png": "[encoded data removed]",
      "text/plain": [
       "<Figure size 1440x360 with 2 Axes>"
      ]
     },
     "metadata": {
      "needs_background": "light"
     },
     "output_type": "display_data"
    }
   ],
   "source": [
    "get_eigv_df(X,30)"
   ]
  },
  {
   "cell_type": "markdown",
   "metadata": {},
   "source": [
    "On constate qu'une ACP avec 300 dimensions permet de récuppérer 93% de l'information du jeu de données mais avec 270 dimensions non significatives. Ces dimensions pourrait s'apparenter à du bruit. Par contre les 30 premières dimensions sont les plus significatives mais ne conservent que la moitié de l'information contenue dans le dataset. Idéalement, nous optons pour une rédutioon à 100 dimesnions en conservant 75% de l'information pour commencer (étant données qu'on à pas d'information précise la perte d'information acceptable sur le jeu de données)"
   ]
  },
  {
   "cell_type": "markdown",
   "metadata": {},
   "source": [
    "## T-SNE"
   ]
  },
  {
   "cell_type": "code",
   "execution_count": 334,
   "metadata": {},
   "outputs": [
    {
     "data": {
      "text/plain": [
       "(3751, 2)"
      ]
     },
     "execution_count": 334,
     "metadata": {},
     "output_type": "execute_result"
    }
   ],
   "source": [
    "\n",
    "X_embedded = TSNE(n_components=2,perplexity=30, n_iter=400).fit_transform(X)\n",
    "X_embedded.shape"
   ]
  },
  {
   "cell_type": "code",
   "execution_count": 337,
   "metadata": {},
   "outputs": [
    {
     "data": {
      "image/png": "[encoded data removed]",
      "text/plain": [
       "<Figure size 432x288 with 1 Axes>"
      ]
     },
     "metadata": {
      "needs_background": "light"
     },
     "output_type": "display_data"
    }
   ],
   "source": [
    "plt.scatter(X_embedded[:,0], X_embedded[:,1],c=Y.values)\n",
    "plt.show()"
   ]
  },
  {
   "cell_type": "markdown",
   "metadata": {},
   "source": [
    "On note également qu'une réduction TSNE ne permet pas de séparer convebalemnt le jeu de donnée."
   ]
  },
  {
   "cell_type": "markdown",
   "metadata": {},
   "source": [
    "## #Not a good idea to take PCA and t-sne data for prediction <br> We will have to utilize the entire dataset"
   ]
  },
  {
   "cell_type": "markdown",
   "metadata": {},
   "source": [
    "## Modélisation"
   ]
  },
  {
   "cell_type": "markdown",
   "metadata": {},
   "source": [
    "#### Usefull function"
   ]
  },
  {
   "cell_type": "code",
   "execution_count": 589,
   "metadata": {},
   "outputs": [],
   "source": [
    "\n",
    "def train_pred(X_train, X_test, y_train, y_test , clf, acp:list):\n",
    "    \"\"\"\n",
    "    train and test a classifier with or whithout PCA\n",
    "    X_train : training values\n",
    "    X_test : test values\n",
    "    y_train : training labels\n",
    "    y_test : test labels\n",
    "    clf : classifier\n",
    "    acp : PCA number of dimension\n",
    "    \n",
    "    \"\"\"\n",
    "\n",
    "    clf.fit(X_train, y_train)\n",
    "    probas_train = clf.predict_proba(X_train)[:,1]\n",
    "    print('Train loss:',log_loss(y_train,probas_train))\n",
    "    probas = clf.predict_proba(X_test)[:,1]\n",
    "    print('Test loss:',log_loss(y_test,probas))\n",
    "    # print(classification_report(y_test, clf.predict(X_test)))\n",
    "    \n",
    "    for dim in acp:\n",
    "        \n",
    "        if dim>0 and dim<X_train.shape[1]:\n",
    "            print('\\n')\n",
    "            print(f'---ACP {dim} dimensions---'*4)\n",
    "            pca = PCA(dim, random_state=42).fit(X_train)\n",
    "            temp_X_train, temp_X_test = pca.transform(X_train), pca.transform(X_test)\n",
    "            clf.fit(temp_X_train, y_train)\n",
    "            probas_train = clf.predict_proba(temp_X_train)[:,1]\n",
    "            print('ACP Train loss:',log_loss(y_train,probas_train))\n",
    "            probas = clf.predict_proba(temp_X_test)[:,1]\n",
    "            print('Test loss:',log_loss(y_test,probas))\n",
    "            # print(classification_report(y_test, clf.predict(X_test)))\n",
    "        \n",
    "\n",
    "def train_test_grid(X_train, X_test, y_train, y_test ,clf, parameters:dict):\n",
    "    \"\"\"\n",
    "    train and test on grid with crossvalidation\n",
    "    X_train : training values\n",
    "    X_test : test values\n",
    "    y_train : training labels\n",
    "    y_test : test labels\n",
    "    clf : classifier\n",
    "    parameters : grid dict\n",
    "    \"\"\"\n",
    "    grid = GridSearchCV(clf, parameters, cv=5)\n",
    "    grid.fit(X_train, y_train)\n",
    "\n",
    "    print('Best estimator :',grid.best_estimator_)\n",
    "\n",
    "    probas_train = grid.best_estimator_.predict_proba(X_train)[:,1]\n",
    "    print('Train loss:',log_loss(y_train,probas_train))\n",
    "    probas = grid.best_estimator_.predict_proba(X_test)[:,1]\n",
    "    print('Test loss:',log_loss(y_test,probas))\n",
    "\n",
    "    return grid\n",
    "\n",
    "\n",
    "def make_submission(model, test, sub_name:str):\n",
    "    \"\"\"\n",
    "    write the submission df\n",
    "    model : the final model\n",
    "    test : the test df for the final prediction\n",
    "    subname : name of the submission file\n",
    "    \"\"\"\n",
    "    probas = model.predict_proba(test)[:,1]\n",
    "    submission = pd.DataFrame({'MoleculeId':[x for x in range(1,len(test)+1)],'PredictedProbability':probas})\n",
    "    submission.to_csv(f'submission_{sub_name}.csv',index=False)"
   ]
  },
  {
   "cell_type": "code",
   "execution_count": 557,
   "metadata": {},
   "outputs": [],
   "source": [
    "X_train, X_test, y_train, y_test = train_test_split(X,Y, test_size=0.1, random_state=42)"
   ]
  },
  {
   "cell_type": "markdown",
   "metadata": {},
   "source": [
    "#### Logistic reg baseline"
   ]
  },
  {
   "cell_type": "markdown",
   "metadata": {},
   "source": [
    "##### #Logreg all dataset"
   ]
  },
  {
   "cell_type": "code",
   "execution_count": 270,
   "metadata": {},
   "outputs": [
    {
     "name": "stdout",
     "output_type": "stream",
     "text": [
      "Train loss: 0.30489629224546716\n",
      "Test loss: 0.6384649417110939\n",
      "\n",
      "\n",
      "---ACP 100 dimensions------ACP 100 dimensions------ACP 100 dimensions------ACP 100 dimensions---\n",
      "ACP Train loss: 0.482628469212798\n",
      "Test loss: 0.5382059412434232\n",
      "\n",
      "\n",
      "---ACP 200 dimensions------ACP 200 dimensions------ACP 200 dimensions------ACP 200 dimensions---\n",
      "ACP Train loss: 0.45292641490902125\n",
      "Test loss: 0.532459966107452\n",
      "\n",
      "\n",
      "---ACP 300 dimensions------ACP 300 dimensions------ACP 300 dimensions------ACP 300 dimensions---\n",
      "ACP Train loss: 0.42860167545522165\n",
      "Test loss: 0.5502782707464713\n"
     ]
    }
   ],
   "source": [
    "clf = LogisticRegression(random_state=42)\n",
    "train_pred(X_train, X_test, y_train, y_test, clf, acp=[100,200,300])"
   ]
  },
  {
   "cell_type": "markdown",
   "metadata": {},
   "source": [
    "Il semble que l'acp réduit l'overfitting mais n'améliore pas les perf du model."
   ]
  },
  {
   "cell_type": "markdown",
   "metadata": {},
   "source": [
    "##### #On selected feats"
   ]
  },
  {
   "cell_type": "code",
   "execution_count": 275,
   "metadata": {},
   "outputs": [
    {
     "name": "stdout",
     "output_type": "stream",
     "text": [
      "Train loss: 0.45784062415334725\n",
      "Test loss: 0.5442763155671265\n",
      "\n",
      "\n",
      "---ACP 100 dimensions------ACP 100 dimensions------ACP 100 dimensions------ACP 100 dimensions---\n",
      "ACP Train loss: 0.4896658486018023\n",
      "Test loss: 0.5316078245582966\n",
      "\n",
      "\n",
      "---ACP 200 dimensions------ACP 200 dimensions------ACP 200 dimensions------ACP 200 dimensions---\n",
      "ACP Train loss: 0.4593283987676459\n",
      "Test loss: 0.5452301437336106\n"
     ]
    }
   ],
   "source": [
    "temp_X_train, temp_X_test, temp_y_train, temp_y_test = train_test_split(X[best_union],Y, test_size=0.1, random_state=42)\n",
    "train_pred(temp_X_train, temp_X_test, temp_y_train, temp_y_test, clf, acp=[100,200,300])"
   ]
  },
  {
   "cell_type": "markdown",
   "metadata": {},
   "source": [
    "##### #Logreg binaires only"
   ]
  },
  {
   "cell_type": "code",
   "execution_count": 276,
   "metadata": {},
   "outputs": [
    {
     "name": "stdout",
     "output_type": "stream",
     "text": [
      "Train loss: 0.36936010253926377\n",
      "Test loss: 0.6800582403224674\n",
      "\n",
      "\n",
      "---ACP 100 dimensions------ACP 100 dimensions------ACP 100 dimensions------ACP 100 dimensions---\n",
      "ACP Train loss: 0.4918498973809609\n",
      "Test loss: 0.5558233490304285\n",
      "\n",
      "\n",
      "---ACP 200 dimensions------ACP 200 dimensions------ACP 200 dimensions------ACP 200 dimensions---\n",
      "ACP Train loss: 0.46324086101165357\n",
      "Test loss: 0.5551562393772012\n",
      "\n",
      "\n",
      "---ACP 300 dimensions------ACP 300 dimensions------ACP 300 dimensions------ACP 300 dimensions---\n",
      "ACP Train loss: 0.43575493469862664\n",
      "Test loss: 0.5771292546337182\n"
     ]
    }
   ],
   "source": [
    "#Model base line avec données binaires uniquement\n",
    "temp_X_train, temp_X_test, temp_y_train, temp_y_test = train_test_split(X[binaries],Y, test_size=0.1, random_state=42)\n",
    "train_pred(temp_X_train, temp_X_test, temp_y_train, temp_y_test, clf, acp=[100,200,300])"
   ]
  },
  {
   "cell_type": "markdown",
   "metadata": {},
   "source": [
    "##### #Logreg non binaries"
   ]
  },
  {
   "cell_type": "code",
   "execution_count": 277,
   "metadata": {},
   "outputs": [
    {
     "name": "stdout",
     "output_type": "stream",
     "text": [
      "Train loss: 0.42823758303303205\n",
      "Test loss: 0.4810678324450219\n",
      "\n",
      "\n",
      "---ACP 100 dimensions------ACP 100 dimensions------ACP 100 dimensions------ACP 100 dimensions---\n",
      "ACP Train loss: 0.5007567979999689\n",
      "Test loss: 0.5053542611136213\n",
      "\n",
      "\n",
      "---ACP 200 dimensions------ACP 200 dimensions------ACP 200 dimensions------ACP 200 dimensions---\n",
      "ACP Train loss: 0.4589560211775125\n",
      "Test loss: 0.49520687691022863\n"
     ]
    }
   ],
   "source": [
    "#Model base line avec données non binaires uniquement\n",
    "temp_X_train, temp_X_test, temp_y_train, temp_y_test  = train_test_split(X[non_binaries],Y, test_size=0.1, random_state=42)\n",
    "train_pred(temp_X_train, temp_X_test, temp_y_train, temp_y_test, clf, acp=[100,200])"
   ]
  },
  {
   "cell_type": "markdown",
   "metadata": {},
   "source": [
    "Lorqu'on utilise les variables binnaires uniquement on constate à peu près les mêmes perf que le modèle avec toutes les variables, il y a aussi de l'overfiting et le même constat sur l'ACP. Par contre, le modèle baseline entrainé avec les données non binaires n'overfit pas, mais n'apprends pas assez."
   ]
  },
  {
   "cell_type": "code",
   "execution_count": null,
   "metadata": {},
   "outputs": [],
   "source": []
  },
  {
   "cell_type": "markdown",
   "metadata": {},
   "source": [
    "##### #Rugalization on Logreg"
   ]
  },
  {
   "cell_type": "code",
   "execution_count": 424,
   "metadata": {},
   "outputs": [
    {
     "name": "stdout",
     "output_type": "stream",
     "text": [
      "Best estimator : LogisticRegression(C=0.1, random_state=42, solver='saga')\n",
      "Train loss: 0.38251932570836894\n",
      "Test loss: 0.5198518640284147\n"
     ]
    }
   ],
   "source": [
    "clf = LogisticRegression(solver ='saga', random_state=42)\n",
    "\n",
    "parameters = {  \n",
    "    'penalty' : ['l1', 'l2','elasticnet'],\n",
    "    'C' : [ 1e-3, 1e-2, 1e-1, 1e0, 1e1, 1e2, 1e3]}\n",
    "\n",
    "grid = train_test_grid(X_train, X_test, y_train, y_test ,clf, parameters)\n"
   ]
  },
  {
   "cell_type": "code",
   "execution_count": 427,
   "metadata": {},
   "outputs": [],
   "source": [
    "make_submission(grid, test, 'logreg_reg')"
   ]
  },
  {
   "cell_type": "markdown",
   "metadata": {},
   "source": [
    "<span style=\"color:blue\">Score public **0.53**</span> "
   ]
  },
  {
   "cell_type": "markdown",
   "metadata": {},
   "source": [
    "#### Random Forest"
   ]
  },
  {
   "cell_type": "markdown",
   "metadata": {},
   "source": [
    "##### #Scratch"
   ]
  },
  {
   "cell_type": "code",
   "execution_count": 278,
   "metadata": {},
   "outputs": [],
   "source": [
    "rf_clf = RandomForestClassifier(n_estimators=200,criterion='gini',max_depth=6, random_state=42)"
   ]
  },
  {
   "cell_type": "code",
   "execution_count": null,
   "metadata": {},
   "outputs": [],
   "source": [
    "train_pred(temp_X_train, temp_X_test, temp_y_train, temp_y_test, clf, acp=[100,200,300])"
   ]
  },
  {
   "cell_type": "markdown",
   "metadata": {},
   "source": [
    "Feature selection "
   ]
  },
  {
   "cell_type": "code",
   "execution_count": 249,
   "metadata": {},
   "outputs": [],
   "source": [
    "model = rf_clf.fit(X_train,y_train)\n",
    "forest_importances = pd.DataFrame({'Importance':model.feature_importances_, 'Col':X.columns})\n",
    "best_rf = forest_importances[forest_importances.Importance>0.001].sort_values('Importance', ascending=False)"
   ]
  },
  {
   "cell_type": "code",
   "execution_count": 279,
   "metadata": {},
   "outputs": [
    {
     "name": "stdout",
     "output_type": "stream",
     "text": [
      "Train loss: 0.44801541326567573\n",
      "Test loss: 0.507089403332126\n",
      "\n",
      "\n",
      "---ACP 100 dimensions------ACP 100 dimensions------ACP 100 dimensions------ACP 100 dimensions---\n",
      "ACP Train loss: 0.49172805384868273\n",
      "Test loss: 0.5593438311824884\n"
     ]
    }
   ],
   "source": [
    "train_pred(X_train[best_rf.Col.values], X_test[best_rf.Col.values], y_train, y_test, rf_clf, acp=[100,300])"
   ]
  },
  {
   "cell_type": "markdown",
   "metadata": {},
   "source": [
    "On ne note pas forcément d'overfiting mais le modèle n'est pas très bon. <br>\n",
    "L'ACP n'améliore pas les perf avec le random forest"
   ]
  },
  {
   "cell_type": "markdown",
   "metadata": {},
   "source": [
    "##### #non binarie feature"
   ]
  },
  {
   "cell_type": "code",
   "execution_count": 280,
   "metadata": {},
   "outputs": [
    {
     "name": "stdout",
     "output_type": "stream",
     "text": [
      "Train loss: 0.489789436662227\n",
      "Test loss: 0.5392060149587257\n",
      "\n",
      "\n",
      "---ACP 100 dimensions------ACP 100 dimensions------ACP 100 dimensions------ACP 100 dimensions---\n",
      "ACP Train loss: 0.5074652831073948\n",
      "Test loss: 0.577558859724811\n",
      "\n",
      "\n",
      "---ACP 300 dimensions------ACP 300 dimensions------ACP 300 dimensions------ACP 300 dimensions---\n",
      "ACP Train loss: 0.5247228049657247\n",
      "Test loss: 0.6019206689922934\n"
     ]
    }
   ],
   "source": [
    "temp_X_train, temp_X_test, temp_y_train, temp_y_test  = train_test_split(X[non_binaries],Y, test_size=0.1, random_state=42)\n",
    "train_pred(temp_X_train, temp_X_test, temp_y_train, temp_y_test, rf_clf, acp=[100,300])"
   ]
  },
  {
   "cell_type": "markdown",
   "metadata": {},
   "source": [
    "##### #binarie feature"
   ]
  },
  {
   "cell_type": "code",
   "execution_count": 281,
   "metadata": {},
   "outputs": [
    {
     "name": "stdout",
     "output_type": "stream",
     "text": [
      "Train loss: 0.533755670268452\n",
      "Test loss: 0.5764819739973505\n",
      "\n",
      "\n",
      "---ACP 100 dimensions------ACP 100 dimensions------ACP 100 dimensions------ACP 100 dimensions---\n",
      "ACP Train loss: 0.4895311371278178\n",
      "Test loss: 0.572911046876494\n",
      "\n",
      "\n",
      "---ACP 300 dimensions------ACP 300 dimensions------ACP 300 dimensions------ACP 300 dimensions---\n",
      "ACP Train loss: 0.5037663241032921\n",
      "Test loss: 0.591312931060291\n"
     ]
    }
   ],
   "source": [
    "temp_X_train, temp_X_test, temp_y_train, temp_y_test  = train_test_split(X[binaries],Y, test_size=0.1, random_state=42)\n",
    "train_pred(temp_X_train, temp_X_test, temp_y_train, temp_y_test, rf_clf, acp=[100,300])"
   ]
  },
  {
   "cell_type": "markdown",
   "metadata": {},
   "source": [
    "##### #Random forest Grid"
   ]
  },
  {
   "cell_type": "code",
   "execution_count": 283,
   "metadata": {},
   "outputs": [
    {
     "name": "stdout",
     "output_type": "stream",
     "text": [
      "Best estimator : RandomForestClassifier(bootstrap=True, ccp_alpha=0.0, class_weight=None,\n",
      "                       criterion='gini', max_depth=6, max_features='auto',\n",
      "                       max_leaf_nodes=None, max_samples=None,\n",
      "                       min_impurity_decrease=0.0, min_impurity_split=None,\n",
      "                       min_samples_leaf=1, min_samples_split=2,\n",
      "                       min_weight_fraction_leaf=0.0, n_estimators=200,\n",
      "                       n_jobs=None, oob_score=False, random_state=42, verbose=0,\n",
      "                       warm_start=False)\n",
      "Train loss: 0.4814210056134587\n",
      "Test loss: 0.530691334678573\n"
     ]
    }
   ],
   "source": [
    "rf_class = RandomForestClassifier(criterion='gini', random_state=42)\n",
    "\n",
    "parameters = {  'n_estimators' : [50,150,200],\n",
    "                'max_depth' : [2,3,4,6]}\n",
    "\n",
    "grid = train_test_grid(X_train, X_test, y_train, y_test ,rf_class, parameters)\n"
   ]
  },
  {
   "cell_type": "code",
   "execution_count": 284,
   "metadata": {},
   "outputs": [],
   "source": [
    "make_submission(grid, test, 'rf_reg')"
   ]
  },
  {
   "cell_type": "markdown",
   "metadata": {},
   "source": [
    "<span style=\"color:blue\">Score public **0.53**</span>"
   ]
  },
  {
   "cell_type": "markdown",
   "metadata": {},
   "source": [
    "#### XGBoost"
   ]
  },
  {
   "cell_type": "code",
   "execution_count": 13,
   "metadata": {},
   "outputs": [
    {
     "name": "stdout",
     "output_type": "stream",
     "text": [
      "[21:29:08] WARNING: /mnt/xgboost/src/learner.cc:1061: Starting in XGBoost 1.3.0, the default evaluation metric used with the objective 'binary:logistic' was changed from 'error' to 'logloss'. Explicitly set eval_metric if you'd like to restore the old behavior.\n",
      "Train loss: 0.23984907563941346\n",
      "Test loss: 0.4328279902321346\n",
      "\n",
      "\n",
      "---ACP 100 dimensions------ACP 100 dimensions------ACP 100 dimensions------ACP 100 dimensions---\n",
      "[21:29:19] WARNING: /mnt/xgboost/src/learner.cc:1061: Starting in XGBoost 1.3.0, the default evaluation metric used with the objective 'binary:logistic' was changed from 'error' to 'logloss'. Explicitly set eval_metric if you'd like to restore the old behavior.\n",
      "ACP Train loss: 0.22313974635848016\n",
      "Test loss: 0.5021270339852794\n",
      "\n",
      "\n",
      "---ACP 200 dimensions------ACP 200 dimensions------ACP 200 dimensions------ACP 200 dimensions---\n",
      "[21:29:23] WARNING: /mnt/xgboost/src/learner.cc:1061: Starting in XGBoost 1.3.0, the default evaluation metric used with the objective 'binary:logistic' was changed from 'error' to 'logloss'. Explicitly set eval_metric if you'd like to restore the old behavior.\n",
      "ACP Train loss: 0.19982120295365652\n",
      "Test loss: 0.5052590710011885\n"
     ]
    }
   ],
   "source": [
    "xgb_clf = XGBClassifier(n_estimators = 150, max_depth = 4, learning_rate=.1)\n",
    "train_pred(X_train, X_test, y_train, y_test, xgb_clf, acp=[100,200])"
   ]
  },
  {
   "cell_type": "markdown",
   "metadata": {},
   "source": [
    "Feature selection "
   ]
  },
  {
   "cell_type": "code",
   "execution_count": 14,
   "metadata": {},
   "outputs": [
    {
     "name": "stdout",
     "output_type": "stream",
     "text": [
      "[21:29:40] WARNING: /mnt/xgboost/src/learner.cc:1061: Starting in XGBoost 1.3.0, the default evaluation metric used with the objective 'binary:logistic' was changed from 'error' to 'logloss'. Explicitly set eval_metric if you'd like to restore the old behavior.\n"
     ]
    },
    {
     "data": {
      "text/html": [
       "<div>\n",
       "<style scoped>\n",
       "    .dataframe tbody tr th:only-of-type {\n",
       "        vertical-align: middle;\n",
       "    }\n",
       "\n",
       "    .dataframe tbody tr th {\n",
       "        vertical-align: top;\n",
       "    }\n",
       "\n",
       "    .dataframe thead th {\n",
       "        text-align: right;\n",
       "    }\n",
       "</style>\n",
       "<table border=\"1\" class=\"dataframe\">\n",
       "  <thead>\n",
       "    <tr style=\"text-align: right;\">\n",
       "      <th></th>\n",
       "      <th>Importance</th>\n",
       "      <th>Col</th>\n",
       "    </tr>\n",
       "  </thead>\n",
       "  <tbody>\n",
       "    <tr>\n",
       "      <th>26</th>\n",
       "      <td>0.061145</td>\n",
       "      <td>D27</td>\n",
       "    </tr>\n",
       "    <tr>\n",
       "      <th>77</th>\n",
       "      <td>0.019994</td>\n",
       "      <td>D78</td>\n",
       "    </tr>\n",
       "    <tr>\n",
       "      <th>84</th>\n",
       "      <td>0.008882</td>\n",
       "      <td>D85</td>\n",
       "    </tr>\n",
       "    <tr>\n",
       "      <th>747</th>\n",
       "      <td>0.007675</td>\n",
       "      <td>D748</td>\n",
       "    </tr>\n",
       "    <tr>\n",
       "      <th>1099</th>\n",
       "      <td>0.007105</td>\n",
       "      <td>D1100</td>\n",
       "    </tr>\n",
       "    <tr>\n",
       "      <th>132</th>\n",
       "      <td>0.007011</td>\n",
       "      <td>D133</td>\n",
       "    </tr>\n",
       "    <tr>\n",
       "      <th>1035</th>\n",
       "      <td>0.006383</td>\n",
       "      <td>D1036</td>\n",
       "    </tr>\n",
       "    <tr>\n",
       "      <th>118</th>\n",
       "      <td>0.006243</td>\n",
       "      <td>D119</td>\n",
       "    </tr>\n",
       "    <tr>\n",
       "      <th>1075</th>\n",
       "      <td>0.006242</td>\n",
       "      <td>D1076</td>\n",
       "    </tr>\n",
       "    <tr>\n",
       "      <th>34</th>\n",
       "      <td>0.006165</td>\n",
       "      <td>D35</td>\n",
       "    </tr>\n",
       "    <tr>\n",
       "      <th>900</th>\n",
       "      <td>0.006128</td>\n",
       "      <td>D901</td>\n",
       "    </tr>\n",
       "    <tr>\n",
       "      <th>151</th>\n",
       "      <td>0.006024</td>\n",
       "      <td>D152</td>\n",
       "    </tr>\n",
       "    <tr>\n",
       "      <th>230</th>\n",
       "      <td>0.005945</td>\n",
       "      <td>D231</td>\n",
       "    </tr>\n",
       "    <tr>\n",
       "      <th>899</th>\n",
       "      <td>0.005679</td>\n",
       "      <td>D900</td>\n",
       "    </tr>\n",
       "    <tr>\n",
       "      <th>95</th>\n",
       "      <td>0.005513</td>\n",
       "      <td>D96</td>\n",
       "    </tr>\n",
       "    <tr>\n",
       "      <th>1086</th>\n",
       "      <td>0.005396</td>\n",
       "      <td>D1087</td>\n",
       "    </tr>\n",
       "    <tr>\n",
       "      <th>414</th>\n",
       "      <td>0.005295</td>\n",
       "      <td>D415</td>\n",
       "    </tr>\n",
       "    <tr>\n",
       "      <th>195</th>\n",
       "      <td>0.005200</td>\n",
       "      <td>D196</td>\n",
       "    </tr>\n",
       "    <tr>\n",
       "      <th>65</th>\n",
       "      <td>0.005101</td>\n",
       "      <td>D66</td>\n",
       "    </tr>\n",
       "    <tr>\n",
       "      <th>468</th>\n",
       "      <td>0.005096</td>\n",
       "      <td>D469</td>\n",
       "    </tr>\n",
       "  </tbody>\n",
       "</table>\n",
       "</div>"
      ],
      "text/plain": [
       "      Importance    Col\n",
       "26      0.061145    D27\n",
       "77      0.019994    D78\n",
       "84      0.008882    D85\n",
       "747     0.007675   D748\n",
       "1099    0.007105  D1100\n",
       "132     0.007011   D133\n",
       "1035    0.006383  D1036\n",
       "118     0.006243   D119\n",
       "1075    0.006242  D1076\n",
       "34      0.006165    D35\n",
       "900     0.006128   D901\n",
       "151     0.006024   D152\n",
       "230     0.005945   D231\n",
       "899     0.005679   D900\n",
       "95      0.005513    D96\n",
       "1086    0.005396  D1087\n",
       "414     0.005295   D415\n",
       "195     0.005200   D196\n",
       "65      0.005101    D66\n",
       "468     0.005096   D469"
      ]
     },
     "execution_count": 14,
     "metadata": {},
     "output_type": "execute_result"
    }
   ],
   "source": [
    "model = xgb_clf.fit(X_train,y_train)\n",
    "forest_importances = pd.DataFrame({'Importance':model.feature_importances_, 'Col':X.columns})\n",
    "forest_importances.sort_values('Importance', ascending=False).head(20)"
   ]
  },
  {
   "cell_type": "code",
   "execution_count": 15,
   "metadata": {},
   "outputs": [
    {
     "name": "stdout",
     "output_type": "stream",
     "text": [
      "[21:29:55] WARNING: /mnt/xgboost/src/learner.cc:1061: Starting in XGBoost 1.3.0, the default evaluation metric used with the objective 'binary:logistic' was changed from 'error' to 'logloss'. Explicitly set eval_metric if you'd like to restore the old behavior.\n",
      "Train loss: 0.23808566923467098\n",
      "Test loss: 0.44206668035761315\n",
      "\n",
      "\n",
      "---ACP 100 dimensions------ACP 100 dimensions------ACP 100 dimensions------ACP 100 dimensions---\n",
      "[21:29:58] WARNING: /mnt/xgboost/src/learner.cc:1061: Starting in XGBoost 1.3.0, the default evaluation metric used with the objective 'binary:logistic' was changed from 'error' to 'logloss'. Explicitly set eval_metric if you'd like to restore the old behavior.\n",
      "ACP Train loss: 0.23601671259215584\n",
      "Test loss: 0.5035257447471327\n",
      "\n",
      "\n",
      "---ACP 300 dimensions------ACP 300 dimensions------ACP 300 dimensions------ACP 300 dimensions---\n",
      "[21:30:02] WARNING: /mnt/xgboost/src/learner.cc:1061: Starting in XGBoost 1.3.0, the default evaluation metric used with the objective 'binary:logistic' was changed from 'error' to 'logloss'. Explicitly set eval_metric if you'd like to restore the old behavior.\n",
      "ACP Train loss: 0.17426810146054184\n",
      "Test loss: 0.4858035424184252\n"
     ]
    }
   ],
   "source": [
    "best_xgb = forest_importances[forest_importances.Importance>0.001].sort_values('Importance', ascending=False)\n",
    "train_pred(X_train[best_xgb.Col.values], X_test[best_xgb.Col.values], y_train, y_test, xgb_clf, acp=[100,300])"
   ]
  },
  {
   "cell_type": "markdown",
   "metadata": {},
   "source": [
    " **essayer de regulariser le xgb a 500 ou 300 dimensions sur mes features impoetances**"
   ]
  },
  {
   "cell_type": "markdown",
   "metadata": {},
   "source": [
    "avec l'ACP On a de meilleur résultat sur le train. Mais on est en sur apprentissage. Il faut essyaer un feature selction"
   ]
  },
  {
   "cell_type": "markdown",
   "metadata": {},
   "source": [
    "##### #XGB Grid"
   ]
  },
  {
   "cell_type": "code",
   "execution_count": null,
   "metadata": {},
   "outputs": [],
   "source": [
    "xgb = XGBClassifier(n_estimators=200, max_depth=4, learning_rate= 0.1,eval_metric = log_loss)\n",
    "\n",
    "parameters = {  'learning_rate':  [0.001,0.005,0.01,0.05,0.1 ],\n",
    "                'reg_alpha' : [2,3,4,6],\n",
    "                'reg_lambda' : [2,3,4,6],\n",
    "                'gamma': [0.001,0.01,0.1]}\n",
    "\n",
    "grid_xgb = train_test_grid(X[temp_best], X_test[temp_best], Y, y_test ,xgb, parameters)"
   ]
  },
  {
   "cell_type": "code",
   "execution_count": 608,
   "metadata": {},
   "outputs": [
    {
     "name": "stdout",
     "output_type": "stream",
     "text": [
      "[16:40:15] WARNING: C:/Users/Administrator/workspace/xgboost-win64_release_1.5.1/src/learner.cc:1115: Starting in XGBoost 1.3.0, the default evaluation metric used with the objective 'binary:logistic' was changed from 'error' to 'logloss'. Explicitly set eval_metric if you'd like to restore the old behavior.\n",
      "Train loss: 0.21199447318990508\n",
      "Test loss: 0.20785437301395737\n"
     ]
    }
   ],
   "source": [
    "train_pred(X, X_test, Y, y_test, grid_xgb.best_estimator_, acp=[0])"
   ]
  },
  {
   "cell_type": "code",
   "execution_count": 612,
   "metadata": {},
   "outputs": [
    {
     "name": "stdout",
     "output_type": "stream",
     "text": [
      "[16:41:21] WARNING: C:/Users/Administrator/workspace/xgboost-win64_release_1.5.1/src/learner.cc:1115: Starting in XGBoost 1.3.0, the default evaluation metric used with the objective 'binary:logistic' was changed from 'error' to 'logloss'. Explicitly set eval_metric if you'd like to restore the old behavior.\n",
      "Train loss: 0.2045749882541045\n",
      "Test loss: 0.42815971494890115\n"
     ]
    }
   ],
   "source": [
    "forest_importances = pd.DataFrame({'Importance':grid_xgb.best_estimator_.feature_importances_, 'Col':X.columns})\n",
    "best_grid_xgb = forest_importances[forest_importances.Importance>0.00001].sort_values('Importance', ascending=False)\n",
    "train_pred(X_train[best_grid_xgb.Col.values], X_test[best_grid_xgb.Col.values], y_train, y_test, grid_xgb.best_estimator_, acp=[0])"
   ]
  },
  {
   "cell_type": "code",
   "execution_count": 614,
   "metadata": {},
   "outputs": [],
   "source": [
    "temp_best = best_grid_xgb.Col.values"
   ]
  },
  {
   "cell_type": "code",
   "execution_count": 613,
   "metadata": {},
   "outputs": [],
   "source": [
    "make_submission(grid_xgb.best_estimator_, test[best_grid_xgb.Col.values], 'grid_xgb_nst_200_on_xgb_best_feat')"
   ]
  },
  {
   "cell_type": "code",
   "execution_count": 617,
   "metadata": {},
   "outputs": [
    {
     "data": {
      "text/plain": [
       "{'gamma': 0.001, 'learning_rate': 0.1, 'reg_alpha': 2, 'reg_lambda': 3}"
      ]
     },
     "execution_count": 617,
     "metadata": {},
     "output_type": "execute_result"
    }
   ],
   "source": [
    "best_for_now = grid_xgb.best_params_"
   ]
  },
  {
   "cell_type": "markdown",
   "metadata": {},
   "source": []
  },
  {
   "cell_type": "code",
   "execution_count": null,
   "metadata": {
    "collapsed": true,
    "jupyter": {
     "outputs_hidden": true
    }
   },
   "outputs": [],
   "source": [
    "xgb_clf = XGBClassifier() #eval_metric=log_loss,predictor='gpu_predictor'\n",
    "\n",
    "parameters = {  'n_estimators' : [10,25,50,200],\n",
    "                'max_depth' : [3,4,5,6] ,\n",
    "                'learning_rate':  [0.001,0.005,0.01,0.05,0.1 ],\n",
    "                'reg_alpha' : [2,3,4],\n",
    "                'reg_lambda' : [2,3,4],\n",
    "                'loss':[log_loss],\n",
    "                'gamma': [0.001,0.01,0.1]}\n",
    "\n",
    "grid = train_test_grid(X_train, X_test, y_train, y_test ,xgb_clf, parameters)"
   ]
  },
  {
   "cell_type": "code",
   "execution_count": 560,
   "metadata": {},
   "outputs": [
    {
     "data": {
      "text/plain": [
       "{'gamma': 0.01,\n",
       " 'learning_rate': 0.05,\n",
       " 'loss': <function sklearn.metrics._classification.log_loss(y_true, y_pred, *, eps=1e-15, normalize=True, sample_weight=None, labels=None)>,\n",
       " 'max_depth': 6,\n",
       " 'n_estimators': 200,\n",
       " 'reg_alpha': 3}"
      ]
     },
     "execution_count": 560,
     "metadata": {},
     "output_type": "execute_result"
    }
   ],
   "source": [
    "grid.best_params_"
   ]
  },
  {
   "cell_type": "code",
   "execution_count": null,
   "metadata": {},
   "outputs": [],
   "source": [
    "prive_0_41 = {'learning_rate': 0.1,\n",
    " 'max_depth': 6,\n",
    " 'n_estimators': 50,\n",
    " 'reg_alpha': 2,\n",
    " 'reg_lambda': 2}"
   ]
  },
  {
   "cell_type": "code",
   "execution_count": 235,
   "metadata": {},
   "outputs": [],
   "source": [
    "best_for_old = {'learning_rate': 0.1,\n",
    " 'loss':log_loss,\n",
    " 'max_depth': 6,\n",
    " 'n_estimators': 200,\n",
    " 'reg_alpha': 2,\n",
    " 'reg_lambda': 4}"
   ]
  },
  {
   "cell_type": "markdown",
   "metadata": {},
   "source": [
    "Feature Importance"
   ]
  },
  {
   "cell_type": "code",
   "execution_count": 568,
   "metadata": {},
   "outputs": [
    {
     "data": {
      "text/html": [
       "<div>\n",
       "<style scoped>\n",
       "    .dataframe tbody tr th:only-of-type {\n",
       "        vertical-align: middle;\n",
       "    }\n",
       "\n",
       "    .dataframe tbody tr th {\n",
       "        vertical-align: top;\n",
       "    }\n",
       "\n",
       "    .dataframe thead th {\n",
       "        text-align: right;\n",
       "    }\n",
       "</style>\n",
       "<table border=\"1\" class=\"dataframe\">\n",
       "  <thead>\n",
       "    <tr style=\"text-align: right;\">\n",
       "      <th></th>\n",
       "      <th>Importance</th>\n",
       "      <th>Col</th>\n",
       "    </tr>\n",
       "  </thead>\n",
       "  <tbody>\n",
       "    <tr>\n",
       "      <th>26</th>\n",
       "      <td>0.064844</td>\n",
       "      <td>D27</td>\n",
       "    </tr>\n",
       "    <tr>\n",
       "      <th>77</th>\n",
       "      <td>0.017109</td>\n",
       "      <td>D78</td>\n",
       "    </tr>\n",
       "    <tr>\n",
       "      <th>84</th>\n",
       "      <td>0.015001</td>\n",
       "      <td>D85</td>\n",
       "    </tr>\n",
       "    <tr>\n",
       "      <th>224</th>\n",
       "      <td>0.011170</td>\n",
       "      <td>D225</td>\n",
       "    </tr>\n",
       "    <tr>\n",
       "      <th>1035</th>\n",
       "      <td>0.007128</td>\n",
       "      <td>D1036</td>\n",
       "    </tr>\n",
       "    <tr>\n",
       "      <th>899</th>\n",
       "      <td>0.006879</td>\n",
       "      <td>D900</td>\n",
       "    </tr>\n",
       "    <tr>\n",
       "      <th>774</th>\n",
       "      <td>0.006466</td>\n",
       "      <td>D775</td>\n",
       "    </tr>\n",
       "    <tr>\n",
       "      <th>602</th>\n",
       "      <td>0.004953</td>\n",
       "      <td>D603</td>\n",
       "    </tr>\n",
       "    <tr>\n",
       "      <th>522</th>\n",
       "      <td>0.004920</td>\n",
       "      <td>D523</td>\n",
       "    </tr>\n",
       "    <tr>\n",
       "      <th>665</th>\n",
       "      <td>0.004785</td>\n",
       "      <td>D666</td>\n",
       "    </tr>\n",
       "    <tr>\n",
       "      <th>598</th>\n",
       "      <td>0.004486</td>\n",
       "      <td>D599</td>\n",
       "    </tr>\n",
       "    <tr>\n",
       "      <th>118</th>\n",
       "      <td>0.004330</td>\n",
       "      <td>D119</td>\n",
       "    </tr>\n",
       "    <tr>\n",
       "      <th>1346</th>\n",
       "      <td>0.004129</td>\n",
       "      <td>D1347</td>\n",
       "    </tr>\n",
       "    <tr>\n",
       "      <th>1086</th>\n",
       "      <td>0.004026</td>\n",
       "      <td>D1087</td>\n",
       "    </tr>\n",
       "    <tr>\n",
       "      <th>259</th>\n",
       "      <td>0.004018</td>\n",
       "      <td>D260</td>\n",
       "    </tr>\n",
       "    <tr>\n",
       "      <th>648</th>\n",
       "      <td>0.003743</td>\n",
       "      <td>D649</td>\n",
       "    </tr>\n",
       "    <tr>\n",
       "      <th>373</th>\n",
       "      <td>0.003609</td>\n",
       "      <td>D374</td>\n",
       "    </tr>\n",
       "    <tr>\n",
       "      <th>1126</th>\n",
       "      <td>0.003556</td>\n",
       "      <td>D1127</td>\n",
       "    </tr>\n",
       "    <tr>\n",
       "      <th>1049</th>\n",
       "      <td>0.003487</td>\n",
       "      <td>D1050</td>\n",
       "    </tr>\n",
       "    <tr>\n",
       "      <th>664</th>\n",
       "      <td>0.003441</td>\n",
       "      <td>D665</td>\n",
       "    </tr>\n",
       "  </tbody>\n",
       "</table>\n",
       "</div>"
      ],
      "text/plain": [
       "      Importance    Col\n",
       "26      0.064844    D27\n",
       "77      0.017109    D78\n",
       "84      0.015001    D85\n",
       "224     0.011170   D225\n",
       "1035    0.007128  D1036\n",
       "899     0.006879   D900\n",
       "774     0.006466   D775\n",
       "602     0.004953   D603\n",
       "522     0.004920   D523\n",
       "665     0.004785   D666\n",
       "598     0.004486   D599\n",
       "118     0.004330   D119\n",
       "1346    0.004129  D1347\n",
       "1086    0.004026  D1087\n",
       "259     0.004018   D260\n",
       "648     0.003743   D649\n",
       "373     0.003609   D374\n",
       "1126    0.003556  D1127\n",
       "1049    0.003487  D1050\n",
       "664     0.003441   D665"
      ]
     },
     "execution_count": 568,
     "metadata": {},
     "output_type": "execute_result"
    }
   ],
   "source": [
    "forest_importances = pd.DataFrame({'Importance':grid.best_estimator_.feature_importances_, 'Col':X.columns})\n",
    "forest_importances.sort_values('Importance', ascending=False).head(20)"
   ]
  },
  {
   "cell_type": "code",
   "execution_count": 569,
   "metadata": {},
   "outputs": [
    {
     "name": "stdout",
     "output_type": "stream",
     "text": [
      "[21:10:04] WARNING: C:/Users/Administrator/workspace/xgboost-win64_release_1.5.1/src/learner.cc:1115: Starting in XGBoost 1.3.0, the default evaluation metric used with the objective 'binary:logistic' was changed from 'error' to 'logloss'. Explicitly set eval_metric if you'd like to restore the old behavior.\n",
      "Train loss: 0.17046465684501108\n",
      "Test loss: 0.4408352239419052\n",
      "\n",
      "\n",
      "---ACP 100 dimensions------ACP 100 dimensions------ACP 100 dimensions------ACP 100 dimensions---\n",
      "[21:10:08] WARNING: C:/Users/Administrator/workspace/xgboost-win64_release_1.5.1/src/learner.cc:1115: Starting in XGBoost 1.3.0, the default evaluation metric used with the objective 'binary:logistic' was changed from 'error' to 'logloss'. Explicitly set eval_metric if you'd like to restore the old behavior.\n",
      "ACP Train loss: 0.15330749172275818\n",
      "Test loss: 0.48801921243640656\n",
      "\n",
      "\n",
      "---ACP 300 dimensions------ACP 300 dimensions------ACP 300 dimensions------ACP 300 dimensions---\n",
      "[21:10:15] WARNING: C:/Users/Administrator/workspace/xgboost-win64_release_1.5.1/src/learner.cc:1115: Starting in XGBoost 1.3.0, the default evaluation metric used with the objective 'binary:logistic' was changed from 'error' to 'logloss'. Explicitly set eval_metric if you'd like to restore the old behavior.\n",
      "ACP Train loss: 0.11334468443277809\n",
      "Test loss: 0.49735489560964896\n"
     ]
    }
   ],
   "source": [
    "best_xgb_grid = forest_importances[forest_importances.Importance>0.001].sort_values('Importance', ascending=False)\n",
    "train_pred(X_train[best_xgb_grid.Col.values], X_test[best_xgb_grid.Col.values], y_train, y_test, grid.best_estimator_, acp=[100,300,500])"
   ]
  },
  {
   "cell_type": "code",
   "execution_count": null,
   "metadata": {},
   "outputs": [],
   "source": []
  },
  {
   "cell_type": "markdown",
   "metadata": {},
   "source": [
    "#### LGBM"
   ]
  },
  {
   "cell_type": "code",
   "execution_count": 639,
   "metadata": {},
   "outputs": [],
   "source": [
    "bon_lgb = LGBMClassifier(random_state=314, silent=True,subsample_freq = 20, subsample = 0.9, \n",
    "                       reg_lambda = 1.2, reg_alpha = 1.1,num_leaves= 200, n_estimators = 700, \n",
    "                       min_split_gain =  0.4, max_depth =  15, colsample_bytree = 0.8)"
   ]
  },
  {
   "cell_type": "code",
   "execution_count": 636,
   "metadata": {},
   "outputs": [],
   "source": [
    "# lgb = LGBMClassifier(random_state=314, silent=True,subsample_freq = 20, subsample = 0.9, learning_rate=0.01,\n",
    "#                        reg_lambda = 1.2, reg_alpha = 3, num_leaves= 200, n_estimators = 700, \n",
    "#                        min_split_gain =  0.1, max_depth =  15, colsample_bytree = 0.8,importance_type ='gain')\n",
    "\n",
    "# train_pred(X_train, X_test, y_train, y_test, lgb, acp=[0])\n",
    "train_pred(X, X_test, Y, y_test, lgb, acp=[0])                "
   ]
  },
  {
   "cell_type": "code",
   "execution_count": 643,
   "metadata": {},
   "outputs": [
    {
     "data": {
      "text/html": [
       "<div>\n",
       "<style scoped>\n",
       "    .dataframe tbody tr th:only-of-type {\n",
       "        vertical-align: middle;\n",
       "    }\n",
       "\n",
       "    .dataframe tbody tr th {\n",
       "        vertical-align: top;\n",
       "    }\n",
       "\n",
       "    .dataframe thead th {\n",
       "        text-align: right;\n",
       "    }\n",
       "</style>\n",
       "<table border=\"1\" class=\"dataframe\">\n",
       "  <thead>\n",
       "    <tr style=\"text-align: right;\">\n",
       "      <th></th>\n",
       "      <th>Importance</th>\n",
       "      <th>Col</th>\n",
       "    </tr>\n",
       "  </thead>\n",
       "  <tbody>\n",
       "    <tr>\n",
       "      <th>25</th>\n",
       "      <td>106</td>\n",
       "      <td>D26</td>\n",
       "    </tr>\n",
       "    <tr>\n",
       "      <th>13</th>\n",
       "      <td>102</td>\n",
       "      <td>D14</td>\n",
       "    </tr>\n",
       "    <tr>\n",
       "      <th>105</th>\n",
       "      <td>97</td>\n",
       "      <td>D106</td>\n",
       "    </tr>\n",
       "    <tr>\n",
       "      <th>17</th>\n",
       "      <td>92</td>\n",
       "      <td>D18</td>\n",
       "    </tr>\n",
       "    <tr>\n",
       "      <th>9</th>\n",
       "      <td>88</td>\n",
       "      <td>D10</td>\n",
       "    </tr>\n",
       "    <tr>\n",
       "      <th>103</th>\n",
       "      <td>85</td>\n",
       "      <td>D104</td>\n",
       "    </tr>\n",
       "    <tr>\n",
       "      <th>37</th>\n",
       "      <td>80</td>\n",
       "      <td>D38</td>\n",
       "    </tr>\n",
       "    <tr>\n",
       "      <th>7</th>\n",
       "      <td>79</td>\n",
       "      <td>D8</td>\n",
       "    </tr>\n",
       "    <tr>\n",
       "      <th>4</th>\n",
       "      <td>75</td>\n",
       "      <td>D5</td>\n",
       "    </tr>\n",
       "    <tr>\n",
       "      <th>45</th>\n",
       "      <td>75</td>\n",
       "      <td>D46</td>\n",
       "    </tr>\n",
       "  </tbody>\n",
       "</table>\n",
       "</div>"
      ],
      "text/plain": [
       "     Importance   Col\n",
       "25          106   D26\n",
       "13          102   D14\n",
       "105          97  D106\n",
       "17           92   D18\n",
       "9            88   D10\n",
       "103          85  D104\n",
       "37           80   D38\n",
       "7            79    D8\n",
       "4            75    D5\n",
       "45           75   D46"
      ]
     },
     "execution_count": 643,
     "metadata": {},
     "output_type": "execute_result"
    }
   ],
   "source": [
    "model = lgb.fit(X_train,y_train)\n",
    "forest_importances = pd.DataFrame({'Importance':model.feature_importances_, 'Col':X.columns})\n",
    "forest_importances.sort_values('Importance', ascending=False).head(10)\n"
   ]
  },
  {
   "cell_type": "code",
   "execution_count": 654,
   "metadata": {},
   "outputs": [
    {
     "name": "stdout",
     "output_type": "stream",
     "text": [
      "Train loss: 0.1372626982703502\n",
      "Test loss: 0.13396846458543324\n"
     ]
    }
   ],
   "source": [
    "best_lgb = forest_importances[forest_importances.Importance>0.001].sort_values('Importance', ascending=False)\n",
    "train_pred(X[best_lgb.Col.values], X_test[best_lgb.Col.values], Y, y_test, lgb, acp=[0])"
   ]
  },
  {
   "cell_type": "code",
   "execution_count": 661,
   "metadata": {},
   "outputs": [
    {
     "name": "stdout",
     "output_type": "stream",
     "text": [
      "Train loss: 0.13837466962078407\n",
      "Test loss: 0.4362277368328402\n"
     ]
    }
   ],
   "source": [
    "scaler = MinMaxScaler().fit(X_train[best_lgb.Col.values])\n",
    "train_x = scaler.transform(X_train[best_lgb.Col.values])\n",
    "test_x= scaler.transform(X_test[best_lgb.Col.values])\n",
    "train_pred(train_x, test_x, y_train, y_test, lgb, acp=[0])"
   ]
  },
  {
   "cell_type": "code",
   "execution_count": 663,
   "metadata": {},
   "outputs": [
    {
     "name": "stdout",
     "output_type": "stream",
     "text": [
      "Best estimator : LGBMClassifier(colsample_bytree=0.8, importance_type='gain', learning_rate=0.01,\n",
      "               max_depth=15, min_split_gain=0.4, n_estimators=700,\n",
      "               num_leaves=200, random_state=314, reg_alpha=2, reg_lambda=3,\n",
      "               silent=True, subsample=0.9, subsample_freq=20)\n",
      "Train loss: 0.2103870160128729\n",
      "Test loss: 0.202154176364208\n"
     ]
    }
   ],
   "source": [
    "bon_lgb = LGBMClassifier(random_state=314, silent=True,subsample_freq = 20, subsample = 0.9, \n",
    "                        num_leaves= 200, n_estimators = 700, importance_type ='gain',\n",
    "                       min_split_gain =  0.4, max_depth =  15, colsample_bytree = 0.8)\n",
    "\n",
    "parameters = {  'learning_rate':  [0.001,0.005,0.01,0.05,0.1],\n",
    "                'reg_alpha' : [2,3,4,6],\n",
    "                'reg_lambda' : [2,3,4,6]}\n",
    "\n",
    "grid_lgb = train_test_grid(X, X_test, Y, y_test ,bon_lgb, parameters)"
   ]
  },
  {
   "cell_type": "code",
   "execution_count": 667,
   "metadata": {},
   "outputs": [],
   "source": [
    "make_submission(grid_lgb.best_estimator_, test, 'lgb_grid_all')"
   ]
  },
  {
   "cell_type": "markdown",
   "metadata": {},
   "source": [
    "## Pycaret classif"
   ]
  },
  {
   "cell_type": "code",
   "execution_count": null,
   "metadata": {},
   "outputs": [],
   "source": [
    "from pycaret.classification import *\n",
    "experiment = setup(data = train,  target = 'Activity')"
   ]
  },
  {
   "cell_type": "code",
   "execution_count": null,
   "metadata": {},
   "outputs": [
    {
     "data": {
      "text/plain": [
       "Name                                                       Log Loss\n",
       "Display Name                                               Log Loss\n",
       "Score Function            <function log_loss at 0x00000171DF65B4C0>\n",
       "Scorer               make_scorer(log_loss, greater_is_better=False)\n",
       "Target                                                         pred\n",
       "Args                                                             {}\n",
       "Greater is Better                                             False\n",
       "Multiclass                                                     True\n",
       "Custom                                                         True\n",
       "Name: logloss, dtype: object"
      ]
     },
     "execution_count": 9,
     "metadata": {},
     "output_type": "execute_result"
    }
   ],
   "source": [
    "add_metric('logloss', 'Log Loss', log_loss, greater_is_better = False)"
   ]
  },
  {
   "cell_type": "code",
   "execution_count": 10,
   "metadata": {},
   "outputs": [
    {
     "data": {
      "text/html": [
       "<style type=\"text/css\">\n",
       "#T_54bdb th {\n",
       "  text-align: left;\n",
       "}\n",
       "#T_54bdb_row0_col0, #T_54bdb_row0_col2, #T_54bdb_row0_col3, #T_54bdb_row0_col4, #T_54bdb_row1_col0, #T_54bdb_row1_col1, #T_54bdb_row1_col2, #T_54bdb_row1_col3, #T_54bdb_row1_col4, #T_54bdb_row1_col5, #T_54bdb_row1_col6, #T_54bdb_row1_col7, #T_54bdb_row1_col8, #T_54bdb_row2_col0, #T_54bdb_row2_col1, #T_54bdb_row2_col2, #T_54bdb_row2_col3, #T_54bdb_row2_col4, #T_54bdb_row2_col5, #T_54bdb_row2_col6, #T_54bdb_row2_col7, #T_54bdb_row2_col8, #T_54bdb_row3_col0, #T_54bdb_row3_col1, #T_54bdb_row3_col3, #T_54bdb_row3_col4, #T_54bdb_row3_col5, #T_54bdb_row3_col6, #T_54bdb_row3_col7, #T_54bdb_row3_col8, #T_54bdb_row4_col0, #T_54bdb_row4_col1, #T_54bdb_row4_col2, #T_54bdb_row4_col3, #T_54bdb_row4_col4, #T_54bdb_row4_col5, #T_54bdb_row4_col6, #T_54bdb_row4_col7, #T_54bdb_row4_col8, #T_54bdb_row5_col0, #T_54bdb_row5_col1, #T_54bdb_row5_col2, #T_54bdb_row5_col3, #T_54bdb_row5_col4, #T_54bdb_row5_col5, #T_54bdb_row5_col6, #T_54bdb_row5_col7, #T_54bdb_row5_col8, #T_54bdb_row6_col0, #T_54bdb_row6_col1, #T_54bdb_row6_col2, #T_54bdb_row6_col3, #T_54bdb_row6_col4, #T_54bdb_row6_col5, #T_54bdb_row6_col6, #T_54bdb_row6_col7, #T_54bdb_row6_col8, #T_54bdb_row7_col0, #T_54bdb_row7_col1, #T_54bdb_row7_col2, #T_54bdb_row7_col3, #T_54bdb_row7_col4, #T_54bdb_row7_col5, #T_54bdb_row7_col6, #T_54bdb_row7_col7, #T_54bdb_row7_col8, #T_54bdb_row8_col0, #T_54bdb_row8_col1, #T_54bdb_row8_col2, #T_54bdb_row8_col3, #T_54bdb_row8_col4, #T_54bdb_row8_col5, #T_54bdb_row8_col6, #T_54bdb_row8_col7, #T_54bdb_row8_col8, #T_54bdb_row9_col0, #T_54bdb_row9_col1, #T_54bdb_row9_col2, #T_54bdb_row9_col3, #T_54bdb_row9_col4, #T_54bdb_row9_col5, #T_54bdb_row9_col6, #T_54bdb_row9_col7, #T_54bdb_row9_col8, #T_54bdb_row10_col0, #T_54bdb_row10_col1, #T_54bdb_row10_col2, #T_54bdb_row10_col3, #T_54bdb_row10_col4, #T_54bdb_row10_col5, #T_54bdb_row10_col6, #T_54bdb_row10_col7, #T_54bdb_row10_col8, #T_54bdb_row11_col0, #T_54bdb_row11_col1, #T_54bdb_row11_col2, #T_54bdb_row11_col3, #T_54bdb_row11_col4, #T_54bdb_row11_col5, #T_54bdb_row11_col6, #T_54bdb_row11_col7, #T_54bdb_row11_col8, #T_54bdb_row12_col0, #T_54bdb_row12_col1, #T_54bdb_row12_col2, #T_54bdb_row12_col3, #T_54bdb_row12_col4, #T_54bdb_row12_col5, #T_54bdb_row12_col6, #T_54bdb_row12_col7, #T_54bdb_row12_col8, #T_54bdb_row13_col0, #T_54bdb_row13_col1, #T_54bdb_row13_col2, #T_54bdb_row13_col4, #T_54bdb_row13_col5, #T_54bdb_row13_col6, #T_54bdb_row13_col7, #T_54bdb_row13_col8, #T_54bdb_row14_col0, #T_54bdb_row14_col1, #T_54bdb_row14_col2, #T_54bdb_row14_col3, #T_54bdb_row14_col5, #T_54bdb_row14_col6, #T_54bdb_row14_col7, #T_54bdb_row14_col8 {\n",
       "  text-align: left;\n",
       "}\n",
       "#T_54bdb_row0_col1, #T_54bdb_row0_col5, #T_54bdb_row0_col6, #T_54bdb_row0_col7, #T_54bdb_row0_col8, #T_54bdb_row3_col2, #T_54bdb_row13_col3, #T_54bdb_row14_col4 {\n",
       "  text-align: left;\n",
       "  background-color: yellow;\n",
       "}\n",
       "#T_54bdb_row0_col9, #T_54bdb_row1_col9, #T_54bdb_row2_col9, #T_54bdb_row3_col9, #T_54bdb_row4_col9, #T_54bdb_row5_col9, #T_54bdb_row6_col9, #T_54bdb_row7_col9, #T_54bdb_row8_col9, #T_54bdb_row9_col9, #T_54bdb_row10_col9, #T_54bdb_row11_col9, #T_54bdb_row12_col9, #T_54bdb_row14_col9 {\n",
       "  text-align: left;\n",
       "  background-color: lightgrey;\n",
       "}\n",
       "#T_54bdb_row13_col9 {\n",
       "  text-align: left;\n",
       "  background-color: yellow;\n",
       "  background-color: lightgrey;\n",
       "}\n",
       "</style>\n",
       "<table id=\"T_54bdb\">\n",
       "  <thead>\n",
       "    <tr>\n",
       "      <th class=\"blank level0\" >&nbsp;</th>\n",
       "      <th id=\"T_54bdb_level0_col0\" class=\"col_heading level0 col0\" >Model</th>\n",
       "      <th id=\"T_54bdb_level0_col1\" class=\"col_heading level0 col1\" >Accuracy</th>\n",
       "      <th id=\"T_54bdb_level0_col2\" class=\"col_heading level0 col2\" >AUC</th>\n",
       "      <th id=\"T_54bdb_level0_col3\" class=\"col_heading level0 col3\" >Recall</th>\n",
       "      <th id=\"T_54bdb_level0_col4\" class=\"col_heading level0 col4\" >Prec.</th>\n",
       "      <th id=\"T_54bdb_level0_col5\" class=\"col_heading level0 col5\" >F1</th>\n",
       "      <th id=\"T_54bdb_level0_col6\" class=\"col_heading level0 col6\" >Kappa</th>\n",
       "      <th id=\"T_54bdb_level0_col7\" class=\"col_heading level0 col7\" >MCC</th>\n",
       "      <th id=\"T_54bdb_level0_col8\" class=\"col_heading level0 col8\" >Log Loss</th>\n",
       "      <th id=\"T_54bdb_level0_col9\" class=\"col_heading level0 col9\" >TT (Sec)</th>\n",
       "    </tr>\n",
       "  </thead>\n",
       "  <tbody>\n",
       "    <tr>\n",
       "      <th id=\"T_54bdb_level0_row0\" class=\"row_heading level0 row0\" >lightgbm</th>\n",
       "      <td id=\"T_54bdb_row0_col0\" class=\"data row0 col0\" >Light Gradient Boosting Machine</td>\n",
       "      <td id=\"T_54bdb_row0_col1\" class=\"data row0 col1\" >0.7954</td>\n",
       "      <td id=\"T_54bdb_row0_col2\" class=\"data row0 col2\" >0.8635</td>\n",
       "      <td id=\"T_54bdb_row0_col3\" class=\"data row0 col3\" >0.8280</td>\n",
       "      <td id=\"T_54bdb_row0_col4\" class=\"data row0 col4\" >0.8054</td>\n",
       "      <td id=\"T_54bdb_row0_col5\" class=\"data row0 col5\" >0.8159</td>\n",
       "      <td id=\"T_54bdb_row0_col6\" class=\"data row0 col6\" >0.5858</td>\n",
       "      <td id=\"T_54bdb_row0_col7\" class=\"data row0 col7\" >0.5874</td>\n",
       "      <td id=\"T_54bdb_row0_col8\" class=\"data row0 col8\" >7.0656</td>\n",
       "      <td id=\"T_54bdb_row0_col9\" class=\"data row0 col9\" >0.9940</td>\n",
       "    </tr>\n",
       "    <tr>\n",
       "      <th id=\"T_54bdb_level0_row1\" class=\"row_heading level0 row1\" >catboost</th>\n",
       "      <td id=\"T_54bdb_row1_col0\" class=\"data row1 col0\" >CatBoost Classifier</td>\n",
       "      <td id=\"T_54bdb_row1_col1\" class=\"data row1 col1\" >0.7935</td>\n",
       "      <td id=\"T_54bdb_row1_col2\" class=\"data row1 col2\" >0.8637</td>\n",
       "      <td id=\"T_54bdb_row1_col3\" class=\"data row1 col3\" >0.8301</td>\n",
       "      <td id=\"T_54bdb_row1_col4\" class=\"data row1 col4\" >0.8013</td>\n",
       "      <td id=\"T_54bdb_row1_col5\" class=\"data row1 col5\" >0.8148</td>\n",
       "      <td id=\"T_54bdb_row1_col6\" class=\"data row1 col6\" >0.5817</td>\n",
       "      <td id=\"T_54bdb_row1_col7\" class=\"data row1 col7\" >0.5834</td>\n",
       "      <td id=\"T_54bdb_row1_col8\" class=\"data row1 col8\" >7.1313</td>\n",
       "      <td id=\"T_54bdb_row1_col9\" class=\"data row1 col9\" >29.8570</td>\n",
       "    </tr>\n",
       "    <tr>\n",
       "      <th id=\"T_54bdb_level0_row2\" class=\"row_heading level0 row2\" >xgboost</th>\n",
       "      <td id=\"T_54bdb_row2_col0\" class=\"data row2 col0\" >Extreme Gradient Boosting</td>\n",
       "      <td id=\"T_54bdb_row2_col1\" class=\"data row2 col1\" >0.7916</td>\n",
       "      <td id=\"T_54bdb_row2_col2\" class=\"data row2 col2\" >0.8635</td>\n",
       "      <td id=\"T_54bdb_row2_col3\" class=\"data row2 col3\" >0.8232</td>\n",
       "      <td id=\"T_54bdb_row2_col4\" class=\"data row2 col4\" >0.8034</td>\n",
       "      <td id=\"T_54bdb_row2_col5\" class=\"data row2 col5\" >0.8120</td>\n",
       "      <td id=\"T_54bdb_row2_col6\" class=\"data row2 col6\" >0.5783</td>\n",
       "      <td id=\"T_54bdb_row2_col7\" class=\"data row2 col7\" >0.5807</td>\n",
       "      <td id=\"T_54bdb_row2_col8\" class=\"data row2 col8\" >7.1975</td>\n",
       "      <td id=\"T_54bdb_row2_col9\" class=\"data row2 col9\" >4.6430</td>\n",
       "    </tr>\n",
       "    <tr>\n",
       "      <th id=\"T_54bdb_level0_row3\" class=\"row_heading level0 row3\" >rf</th>\n",
       "      <td id=\"T_54bdb_row3_col0\" class=\"data row3 col0\" >Random Forest Classifier</td>\n",
       "      <td id=\"T_54bdb_row3_col1\" class=\"data row3 col1\" >0.7905</td>\n",
       "      <td id=\"T_54bdb_row3_col2\" class=\"data row3 col2\" >0.8663</td>\n",
       "      <td id=\"T_54bdb_row3_col3\" class=\"data row3 col3\" >0.8079</td>\n",
       "      <td id=\"T_54bdb_row3_col4\" class=\"data row3 col4\" >0.8110</td>\n",
       "      <td id=\"T_54bdb_row3_col5\" class=\"data row3 col5\" >0.8083</td>\n",
       "      <td id=\"T_54bdb_row3_col6\" class=\"data row3 col6\" >0.5772</td>\n",
       "      <td id=\"T_54bdb_row3_col7\" class=\"data row3 col7\" >0.5792</td>\n",
       "      <td id=\"T_54bdb_row3_col8\" class=\"data row3 col8\" >7.2375</td>\n",
       "      <td id=\"T_54bdb_row3_col9\" class=\"data row3 col9\" >0.5160</td>\n",
       "    </tr>\n",
       "    <tr>\n",
       "      <th id=\"T_54bdb_level0_row4\" class=\"row_heading level0 row4\" >et</th>\n",
       "      <td id=\"T_54bdb_row4_col0\" class=\"data row4 col0\" >Extra Trees Classifier</td>\n",
       "      <td id=\"T_54bdb_row4_col1\" class=\"data row4 col1\" >0.7848</td>\n",
       "      <td id=\"T_54bdb_row4_col2\" class=\"data row4 col2\" >0.8592</td>\n",
       "      <td id=\"T_54bdb_row4_col3\" class=\"data row4 col3\" >0.8065</td>\n",
       "      <td id=\"T_54bdb_row4_col4\" class=\"data row4 col4\" >0.8024</td>\n",
       "      <td id=\"T_54bdb_row4_col5\" class=\"data row4 col5\" >0.8036</td>\n",
       "      <td id=\"T_54bdb_row4_col6\" class=\"data row4 col6\" >0.5655</td>\n",
       "      <td id=\"T_54bdb_row4_col7\" class=\"data row4 col7\" >0.5670</td>\n",
       "      <td id=\"T_54bdb_row4_col8\" class=\"data row4 col8\" >7.4337</td>\n",
       "      <td id=\"T_54bdb_row4_col9\" class=\"data row4 col9\" >0.5680</td>\n",
       "    </tr>\n",
       "    <tr>\n",
       "      <th id=\"T_54bdb_level0_row5\" class=\"row_heading level0 row5\" >gbc</th>\n",
       "      <td id=\"T_54bdb_row5_col0\" class=\"data row5 col0\" >Gradient Boosting Classifier</td>\n",
       "      <td id=\"T_54bdb_row5_col1\" class=\"data row5 col1\" >0.7806</td>\n",
       "      <td id=\"T_54bdb_row5_col2\" class=\"data row5 col2\" >0.8483</td>\n",
       "      <td id=\"T_54bdb_row5_col3\" class=\"data row5 col3\" >0.8196</td>\n",
       "      <td id=\"T_54bdb_row5_col4\" class=\"data row5 col4\" >0.7885</td>\n",
       "      <td id=\"T_54bdb_row5_col5\" class=\"data row5 col5\" >0.8035</td>\n",
       "      <td id=\"T_54bdb_row5_col6\" class=\"data row5 col6\" >0.5553</td>\n",
       "      <td id=\"T_54bdb_row5_col7\" class=\"data row5 col7\" >0.5563</td>\n",
       "      <td id=\"T_54bdb_row5_col8\" class=\"data row5 col8\" >7.5793</td>\n",
       "      <td id=\"T_54bdb_row5_col9\" class=\"data row5 col9\" >3.8080</td>\n",
       "    </tr>\n",
       "    <tr>\n",
       "      <th id=\"T_54bdb_level0_row6\" class=\"row_heading level0 row6\" >ada</th>\n",
       "      <td id=\"T_54bdb_row6_col0\" class=\"data row6 col0\" >Ada Boost Classifier</td>\n",
       "      <td id=\"T_54bdb_row6_col1\" class=\"data row6 col1\" >0.7615</td>\n",
       "      <td id=\"T_54bdb_row6_col2\" class=\"data row6 col2\" >0.8130</td>\n",
       "      <td id=\"T_54bdb_row6_col3\" class=\"data row6 col3\" >0.7939</td>\n",
       "      <td id=\"T_54bdb_row6_col4\" class=\"data row6 col4\" >0.7770</td>\n",
       "      <td id=\"T_54bdb_row6_col5\" class=\"data row6 col5\" >0.7845</td>\n",
       "      <td id=\"T_54bdb_row6_col6\" class=\"data row6 col6\" >0.5175</td>\n",
       "      <td id=\"T_54bdb_row6_col7\" class=\"data row6 col7\" >0.5191</td>\n",
       "      <td id=\"T_54bdb_row6_col8\" class=\"data row6 col8\" >8.2368</td>\n",
       "      <td id=\"T_54bdb_row6_col9\" class=\"data row6 col9\" >0.8760</td>\n",
       "    </tr>\n",
       "    <tr>\n",
       "      <th id=\"T_54bdb_level0_row7\" class=\"row_heading level0 row7\" >ridge</th>\n",
       "      <td id=\"T_54bdb_row7_col0\" class=\"data row7 col0\" >Ridge Classifier</td>\n",
       "      <td id=\"T_54bdb_row7_col1\" class=\"data row7 col1\" >0.7463</td>\n",
       "      <td id=\"T_54bdb_row7_col2\" class=\"data row7 col2\" >0.0000</td>\n",
       "      <td id=\"T_54bdb_row7_col3\" class=\"data row7 col3\" >0.7813</td>\n",
       "      <td id=\"T_54bdb_row7_col4\" class=\"data row7 col4\" >0.7614</td>\n",
       "      <td id=\"T_54bdb_row7_col5\" class=\"data row7 col5\" >0.7709</td>\n",
       "      <td id=\"T_54bdb_row7_col6\" class=\"data row7 col6\" >0.4866</td>\n",
       "      <td id=\"T_54bdb_row7_col7\" class=\"data row7 col7\" >0.4873</td>\n",
       "      <td id=\"T_54bdb_row7_col8\" class=\"data row7 col8\" >8.7640</td>\n",
       "      <td id=\"T_54bdb_row7_col9\" class=\"data row7 col9\" >0.1590</td>\n",
       "    </tr>\n",
       "    <tr>\n",
       "      <th id=\"T_54bdb_level0_row8\" class=\"row_heading level0 row8\" >knn</th>\n",
       "      <td id=\"T_54bdb_row8_col0\" class=\"data row8 col0\" >K Neighbors Classifier</td>\n",
       "      <td id=\"T_54bdb_row8_col1\" class=\"data row8 col1\" >0.7371</td>\n",
       "      <td id=\"T_54bdb_row8_col2\" class=\"data row8 col2\" >0.7953</td>\n",
       "      <td id=\"T_54bdb_row8_col3\" class=\"data row8 col3\" >0.7869</td>\n",
       "      <td id=\"T_54bdb_row8_col4\" class=\"data row8 col4\" >0.7469</td>\n",
       "      <td id=\"T_54bdb_row8_col5\" class=\"data row8 col5\" >0.7662</td>\n",
       "      <td id=\"T_54bdb_row8_col6\" class=\"data row8 col6\" >0.4665</td>\n",
       "      <td id=\"T_54bdb_row8_col7\" class=\"data row8 col7\" >0.4675</td>\n",
       "      <td id=\"T_54bdb_row8_col8\" class=\"data row8 col8\" >9.0793</td>\n",
       "      <td id=\"T_54bdb_row8_col9\" class=\"data row8 col9\" >2.4870</td>\n",
       "    </tr>\n",
       "    <tr>\n",
       "      <th id=\"T_54bdb_level0_row9\" class=\"row_heading level0 row9\" >dt</th>\n",
       "      <td id=\"T_54bdb_row9_col0\" class=\"data row9 col0\" >Decision Tree Classifier</td>\n",
       "      <td id=\"T_54bdb_row9_col1\" class=\"data row9 col1\" >0.7211</td>\n",
       "      <td id=\"T_54bdb_row9_col2\" class=\"data row9 col2\" >0.7182</td>\n",
       "      <td id=\"T_54bdb_row9_col3\" class=\"data row9 col3\" >0.7501</td>\n",
       "      <td id=\"T_54bdb_row9_col4\" class=\"data row9 col4\" >0.7445</td>\n",
       "      <td id=\"T_54bdb_row9_col5\" class=\"data row9 col5\" >0.7463</td>\n",
       "      <td id=\"T_54bdb_row9_col6\" class=\"data row9 col6\" >0.4367</td>\n",
       "      <td id=\"T_54bdb_row9_col7\" class=\"data row9 col7\" >0.4382</td>\n",
       "      <td id=\"T_54bdb_row9_col8\" class=\"data row9 col8\" >9.6313</td>\n",
       "      <td id=\"T_54bdb_row9_col9\" class=\"data row9 col9\" >0.2790</td>\n",
       "    </tr>\n",
       "    <tr>\n",
       "      <th id=\"T_54bdb_level0_row10\" class=\"row_heading level0 row10\" >svm</th>\n",
       "      <td id=\"T_54bdb_row10_col0\" class=\"data row10 col0\" >SVM - Linear Kernel</td>\n",
       "      <td id=\"T_54bdb_row10_col1\" class=\"data row10 col1\" >0.6895</td>\n",
       "      <td id=\"T_54bdb_row10_col2\" class=\"data row10 col2\" >0.0000</td>\n",
       "      <td id=\"T_54bdb_row10_col3\" class=\"data row10 col3\" >0.7033</td>\n",
       "      <td id=\"T_54bdb_row10_col4\" class=\"data row10 col4\" >0.7442</td>\n",
       "      <td id=\"T_54bdb_row10_col5\" class=\"data row10 col5\" >0.7045</td>\n",
       "      <td id=\"T_54bdb_row10_col6\" class=\"data row10 col6\" >0.3748</td>\n",
       "      <td id=\"T_54bdb_row10_col7\" class=\"data row10 col7\" >0.4000</td>\n",
       "      <td id=\"T_54bdb_row10_col8\" class=\"data row10 col8\" >10.7231</td>\n",
       "      <td id=\"T_54bdb_row10_col9\" class=\"data row10 col9\" >0.3500</td>\n",
       "    </tr>\n",
       "    <tr>\n",
       "      <th id=\"T_54bdb_level0_row11\" class=\"row_heading level0 row11\" >lda</th>\n",
       "      <td id=\"T_54bdb_row11_col0\" class=\"data row11 col0\" >Linear Discriminant Analysis</td>\n",
       "      <td id=\"T_54bdb_row11_col1\" class=\"data row11 col1\" >0.6777</td>\n",
       "      <td id=\"T_54bdb_row11_col2\" class=\"data row11 col2\" >0.6796</td>\n",
       "      <td id=\"T_54bdb_row11_col3\" class=\"data row11 col3\" >0.7117</td>\n",
       "      <td id=\"T_54bdb_row11_col4\" class=\"data row11 col4\" >0.7033</td>\n",
       "      <td id=\"T_54bdb_row11_col5\" class=\"data row11 col5\" >0.7072</td>\n",
       "      <td id=\"T_54bdb_row11_col6\" class=\"data row11 col6\" >0.3488</td>\n",
       "      <td id=\"T_54bdb_row11_col7\" class=\"data row11 col7\" >0.3492</td>\n",
       "      <td id=\"T_54bdb_row11_col8\" class=\"data row11 col8\" >11.1315</td>\n",
       "      <td id=\"T_54bdb_row11_col9\" class=\"data row11 col9\" >4.4530</td>\n",
       "    </tr>\n",
       "    <tr>\n",
       "      <th id=\"T_54bdb_level0_row12\" class=\"row_heading level0 row12\" >nb</th>\n",
       "      <td id=\"T_54bdb_row12_col0\" class=\"data row12 col0\" >Naive Bayes</td>\n",
       "      <td id=\"T_54bdb_row12_col1\" class=\"data row12 col1\" >0.6129</td>\n",
       "      <td id=\"T_54bdb_row12_col2\" class=\"data row12 col2\" >0.5931</td>\n",
       "      <td id=\"T_54bdb_row12_col3\" class=\"data row12 col3\" >0.9150</td>\n",
       "      <td id=\"T_54bdb_row12_col4\" class=\"data row12 col4\" >0.5952</td>\n",
       "      <td id=\"T_54bdb_row12_col5\" class=\"data row12 col5\" >0.7211</td>\n",
       "      <td id=\"T_54bdb_row12_col6\" class=\"data row12 col6\" >0.1728</td>\n",
       "      <td id=\"T_54bdb_row12_col7\" class=\"data row12 col7\" >0.2231</td>\n",
       "      <td id=\"T_54bdb_row12_col8\" class=\"data row12 col8\" >13.3695</td>\n",
       "      <td id=\"T_54bdb_row12_col9\" class=\"data row12 col9\" >0.1040</td>\n",
       "    </tr>\n",
       "    <tr>\n",
       "      <th id=\"T_54bdb_level0_row13\" class=\"row_heading level0 row13\" >dummy</th>\n",
       "      <td id=\"T_54bdb_row13_col0\" class=\"data row13 col0\" >Dummy Classifier</td>\n",
       "      <td id=\"T_54bdb_row13_col1\" class=\"data row13 col1\" >0.5470</td>\n",
       "      <td id=\"T_54bdb_row13_col2\" class=\"data row13 col2\" >0.5000</td>\n",
       "      <td id=\"T_54bdb_row13_col3\" class=\"data row13 col3\" >1.0000</td>\n",
       "      <td id=\"T_54bdb_row13_col4\" class=\"data row13 col4\" >0.5470</td>\n",
       "      <td id=\"T_54bdb_row13_col5\" class=\"data row13 col5\" >0.7072</td>\n",
       "      <td id=\"T_54bdb_row13_col6\" class=\"data row13 col6\" >0.0000</td>\n",
       "      <td id=\"T_54bdb_row13_col7\" class=\"data row13 col7\" >0.0000</td>\n",
       "      <td id=\"T_54bdb_row13_col8\" class=\"data row13 col8\" >15.6448</td>\n",
       "      <td id=\"T_54bdb_row13_col9\" class=\"data row13 col9\" >0.0470</td>\n",
       "    </tr>\n",
       "    <tr>\n",
       "      <th id=\"T_54bdb_level0_row14\" class=\"row_heading level0 row14\" >qda</th>\n",
       "      <td id=\"T_54bdb_row14_col0\" class=\"data row14 col0\" >Quadratic Discriminant Analysis</td>\n",
       "      <td id=\"T_54bdb_row14_col1\" class=\"data row14 col1\" >0.4792</td>\n",
       "      <td id=\"T_54bdb_row14_col2\" class=\"data row14 col2\" >0.5239</td>\n",
       "      <td id=\"T_54bdb_row14_col3\" class=\"data row14 col3\" >0.0522</td>\n",
       "      <td id=\"T_54bdb_row14_col4\" class=\"data row14 col4\" >0.9439</td>\n",
       "      <td id=\"T_54bdb_row14_col5\" class=\"data row14 col5\" >0.0973</td>\n",
       "      <td id=\"T_54bdb_row14_col6\" class=\"data row14 col6\" >0.0430</td>\n",
       "      <td id=\"T_54bdb_row14_col7\" class=\"data row14 col7\" >0.1331</td>\n",
       "      <td id=\"T_54bdb_row14_col8\" class=\"data row14 col8\" >17.9868</td>\n",
       "      <td id=\"T_54bdb_row14_col9\" class=\"data row14 col9\" >3.3690</td>\n",
       "    </tr>\n",
       "  </tbody>\n",
       "</table>\n"
      ],
      "text/plain": [
       "<pandas.io.formats.style.Styler at 0x171af461b20>"
      ]
     },
     "metadata": {},
     "output_type": "display_data"
    }
   ],
   "source": [
    "best_model = compare_models(sort = 'logloss')"
   ]
  },
  {
   "cell_type": "code",
   "execution_count": 12,
   "metadata": {},
   "outputs": [
    {
     "data": {
      "text/plain": [
       "array([ 2, 32,  1, ...,  0,  0,  0])"
      ]
     },
     "execution_count": 12,
     "metadata": {},
     "output_type": "execute_result"
    }
   ],
   "source": [
    "best_model.feature_importances_"
   ]
  },
  {
   "cell_type": "code",
   "execution_count": 13,
   "metadata": {},
   "outputs": [
    {
     "data": {
      "text/html": [
       "<style type=\"text/css\">\n",
       "#T_07ce3_row10_col0, #T_07ce3_row10_col1, #T_07ce3_row10_col2, #T_07ce3_row10_col3, #T_07ce3_row10_col4, #T_07ce3_row10_col5, #T_07ce3_row10_col6, #T_07ce3_row10_col7 {\n",
       "  background: yellow;\n",
       "}\n",
       "</style>\n",
       "<table id=\"T_07ce3\">\n",
       "  <thead>\n",
       "    <tr>\n",
       "      <th class=\"blank level0\" >&nbsp;</th>\n",
       "      <th id=\"T_07ce3_level0_col0\" class=\"col_heading level0 col0\" >Accuracy</th>\n",
       "      <th id=\"T_07ce3_level0_col1\" class=\"col_heading level0 col1\" >AUC</th>\n",
       "      <th id=\"T_07ce3_level0_col2\" class=\"col_heading level0 col2\" >Recall</th>\n",
       "      <th id=\"T_07ce3_level0_col3\" class=\"col_heading level0 col3\" >Prec.</th>\n",
       "      <th id=\"T_07ce3_level0_col4\" class=\"col_heading level0 col4\" >F1</th>\n",
       "      <th id=\"T_07ce3_level0_col5\" class=\"col_heading level0 col5\" >Kappa</th>\n",
       "      <th id=\"T_07ce3_level0_col6\" class=\"col_heading level0 col6\" >MCC</th>\n",
       "      <th id=\"T_07ce3_level0_col7\" class=\"col_heading level0 col7\" >Log Loss</th>\n",
       "    </tr>\n",
       "  </thead>\n",
       "  <tbody>\n",
       "    <tr>\n",
       "      <th id=\"T_07ce3_level0_row0\" class=\"row_heading level0 row0\" >0</th>\n",
       "      <td id=\"T_07ce3_row0_col0\" class=\"data row0 col0\" >0.7947</td>\n",
       "      <td id=\"T_07ce3_row0_col1\" class=\"data row0 col1\" >0.8902</td>\n",
       "      <td id=\"T_07ce3_row0_col2\" class=\"data row0 col2\" >0.8681</td>\n",
       "      <td id=\"T_07ce3_row0_col3\" class=\"data row0 col3\" >0.7812</td>\n",
       "      <td id=\"T_07ce3_row0_col4\" class=\"data row0 col4\" >0.8224</td>\n",
       "      <td id=\"T_07ce3_row0_col5\" class=\"data row0 col5\" >0.5807</td>\n",
       "      <td id=\"T_07ce3_row0_col6\" class=\"data row0 col6\" >0.5852</td>\n",
       "      <td id=\"T_07ce3_row0_col7\" class=\"data row0 col7\" >7.0917</td>\n",
       "    </tr>\n",
       "    <tr>\n",
       "      <th id=\"T_07ce3_level0_row1\" class=\"row_heading level0 row1\" >1</th>\n",
       "      <td id=\"T_07ce3_row1_col0\" class=\"data row1 col0\" >0.8023</td>\n",
       "      <td id=\"T_07ce3_row1_col1\" class=\"data row1 col1\" >0.8717</td>\n",
       "      <td id=\"T_07ce3_row1_col2\" class=\"data row1 col2\" >0.8125</td>\n",
       "      <td id=\"T_07ce3_row1_col3\" class=\"data row1 col3\" >0.8239</td>\n",
       "      <td id=\"T_07ce3_row1_col4\" class=\"data row1 col4\" >0.8182</td>\n",
       "      <td id=\"T_07ce3_row1_col5\" class=\"data row1 col5\" >0.6015</td>\n",
       "      <td id=\"T_07ce3_row1_col6\" class=\"data row1 col6\" >0.6016</td>\n",
       "      <td id=\"T_07ce3_row1_col7\" class=\"data row1 col7\" >6.8290</td>\n",
       "    </tr>\n",
       "    <tr>\n",
       "      <th id=\"T_07ce3_level0_row2\" class=\"row_heading level0 row2\" >2</th>\n",
       "      <td id=\"T_07ce3_row2_col0\" class=\"data row2 col0\" >0.7643</td>\n",
       "      <td id=\"T_07ce3_row2_col1\" class=\"data row2 col1\" >0.8271</td>\n",
       "      <td id=\"T_07ce3_row2_col2\" class=\"data row2 col2\" >0.7986</td>\n",
       "      <td id=\"T_07ce3_row2_col3\" class=\"data row2 col3\" >0.7770</td>\n",
       "      <td id=\"T_07ce3_row2_col4\" class=\"data row2 col4\" >0.7877</td>\n",
       "      <td id=\"T_07ce3_row2_col5\" class=\"data row2 col5\" >0.5228</td>\n",
       "      <td id=\"T_07ce3_row2_col6\" class=\"data row2 col6\" >0.5231</td>\n",
       "      <td id=\"T_07ce3_row2_col7\" class=\"data row2 col7\" >8.1423</td>\n",
       "    </tr>\n",
       "    <tr>\n",
       "      <th id=\"T_07ce3_level0_row3\" class=\"row_heading level0 row3\" >3</th>\n",
       "      <td id=\"T_07ce3_row3_col0\" class=\"data row3 col0\" >0.7909</td>\n",
       "      <td id=\"T_07ce3_row3_col1\" class=\"data row3 col1\" >0.8761</td>\n",
       "      <td id=\"T_07ce3_row3_col2\" class=\"data row3 col2\" >0.8056</td>\n",
       "      <td id=\"T_07ce3_row3_col3\" class=\"data row3 col3\" >0.8112</td>\n",
       "      <td id=\"T_07ce3_row3_col4\" class=\"data row3 col4\" >0.8084</td>\n",
       "      <td id=\"T_07ce3_row3_col5\" class=\"data row3 col5\" >0.5782</td>\n",
       "      <td id=\"T_07ce3_row3_col6\" class=\"data row3 col6\" >0.5783</td>\n",
       "      <td id=\"T_07ce3_row3_col7\" class=\"data row3 col7\" >7.2230</td>\n",
       "    </tr>\n",
       "    <tr>\n",
       "      <th id=\"T_07ce3_level0_row4\" class=\"row_heading level0 row4\" >4</th>\n",
       "      <td id=\"T_07ce3_row4_col0\" class=\"data row4 col0\" >0.8137</td>\n",
       "      <td id=\"T_07ce3_row4_col1\" class=\"data row4 col1\" >0.8936</td>\n",
       "      <td id=\"T_07ce3_row4_col2\" class=\"data row4 col2\" >0.7847</td>\n",
       "      <td id=\"T_07ce3_row4_col3\" class=\"data row4 col3\" >0.8626</td>\n",
       "      <td id=\"T_07ce3_row4_col4\" class=\"data row4 col4\" >0.8218</td>\n",
       "      <td id=\"T_07ce3_row4_col5\" class=\"data row4 col5\" >0.6275</td>\n",
       "      <td id=\"T_07ce3_row4_col6\" class=\"data row4 col6\" >0.6306</td>\n",
       "      <td id=\"T_07ce3_row4_col7\" class=\"data row4 col7\" >6.4350</td>\n",
       "    </tr>\n",
       "    <tr>\n",
       "      <th id=\"T_07ce3_level0_row5\" class=\"row_heading level0 row5\" >5</th>\n",
       "      <td id=\"T_07ce3_row5_col0\" class=\"data row5 col0\" >0.7977</td>\n",
       "      <td id=\"T_07ce3_row5_col1\" class=\"data row5 col1\" >0.8520</td>\n",
       "      <td id=\"T_07ce3_row5_col2\" class=\"data row5 col2\" >0.8462</td>\n",
       "      <td id=\"T_07ce3_row5_col3\" class=\"data row5 col3\" >0.7961</td>\n",
       "      <td id=\"T_07ce3_row5_col4\" class=\"data row5 col4\" >0.8203</td>\n",
       "      <td id=\"T_07ce3_row5_col5\" class=\"data row5 col5\" >0.5894</td>\n",
       "      <td id=\"T_07ce3_row5_col6\" class=\"data row5 col6\" >0.5908</td>\n",
       "      <td id=\"T_07ce3_row5_col7\" class=\"data row5 col7\" >6.9869</td>\n",
       "    </tr>\n",
       "    <tr>\n",
       "      <th id=\"T_07ce3_level0_row6\" class=\"row_heading level0 row6\" >6</th>\n",
       "      <td id=\"T_07ce3_row6_col0\" class=\"data row6 col0\" >0.7939</td>\n",
       "      <td id=\"T_07ce3_row6_col1\" class=\"data row6 col1\" >0.8627</td>\n",
       "      <td id=\"T_07ce3_row6_col2\" class=\"data row6 col2\" >0.8462</td>\n",
       "      <td id=\"T_07ce3_row6_col3\" class=\"data row6 col3\" >0.7908</td>\n",
       "      <td id=\"T_07ce3_row6_col4\" class=\"data row6 col4\" >0.8176</td>\n",
       "      <td id=\"T_07ce3_row6_col5\" class=\"data row6 col5\" >0.5813</td>\n",
       "      <td id=\"T_07ce3_row6_col6\" class=\"data row6 col6\" >0.5831</td>\n",
       "      <td id=\"T_07ce3_row6_col7\" class=\"data row6 col7\" >7.1188</td>\n",
       "    </tr>\n",
       "    <tr>\n",
       "      <th id=\"T_07ce3_level0_row7\" class=\"row_heading level0 row7\" >7</th>\n",
       "      <td id=\"T_07ce3_row7_col0\" class=\"data row7 col0\" >0.7977</td>\n",
       "      <td id=\"T_07ce3_row7_col1\" class=\"data row7 col1\" >0.8527</td>\n",
       "      <td id=\"T_07ce3_row7_col2\" class=\"data row7 col2\" >0.8252</td>\n",
       "      <td id=\"T_07ce3_row7_col3\" class=\"data row7 col3\" >0.8082</td>\n",
       "      <td id=\"T_07ce3_row7_col4\" class=\"data row7 col4\" >0.8166</td>\n",
       "      <td id=\"T_07ce3_row7_col5\" class=\"data row7 col5\" >0.5911</td>\n",
       "      <td id=\"T_07ce3_row7_col6\" class=\"data row7 col6\" >0.5913</td>\n",
       "      <td id=\"T_07ce3_row7_col7\" class=\"data row7 col7\" >6.9869</td>\n",
       "    </tr>\n",
       "    <tr>\n",
       "      <th id=\"T_07ce3_level0_row8\" class=\"row_heading level0 row8\" >8</th>\n",
       "      <td id=\"T_07ce3_row8_col0\" class=\"data row8 col0\" >0.7710</td>\n",
       "      <td id=\"T_07ce3_row8_col1\" class=\"data row8 col1\" >0.8542</td>\n",
       "      <td id=\"T_07ce3_row8_col2\" class=\"data row8 col2\" >0.8462</td>\n",
       "      <td id=\"T_07ce3_row8_col3\" class=\"data row8 col3\" >0.7610</td>\n",
       "      <td id=\"T_07ce3_row8_col4\" class=\"data row8 col4\" >0.8013</td>\n",
       "      <td id=\"T_07ce3_row8_col5\" class=\"data row8 col5\" >0.5328</td>\n",
       "      <td id=\"T_07ce3_row8_col6\" class=\"data row8 col6\" >0.5370</td>\n",
       "      <td id=\"T_07ce3_row8_col7\" class=\"data row8 col7\" >7.9098</td>\n",
       "    </tr>\n",
       "    <tr>\n",
       "      <th id=\"T_07ce3_level0_row9\" class=\"row_heading level0 row9\" >9</th>\n",
       "      <td id=\"T_07ce3_row9_col0\" class=\"data row9 col0\" >0.8282</td>\n",
       "      <td id=\"T_07ce3_row9_col1\" class=\"data row9 col1\" >0.8549</td>\n",
       "      <td id=\"T_07ce3_row9_col2\" class=\"data row9 col2\" >0.8472</td>\n",
       "      <td id=\"T_07ce3_row9_col3\" class=\"data row9 col3\" >0.8414</td>\n",
       "      <td id=\"T_07ce3_row9_col4\" class=\"data row9 col4\" >0.8443</td>\n",
       "      <td id=\"T_07ce3_row9_col5\" class=\"data row9 col5\" >0.6528</td>\n",
       "      <td id=\"T_07ce3_row9_col6\" class=\"data row9 col6\" >0.6528</td>\n",
       "      <td id=\"T_07ce3_row9_col7\" class=\"data row9 col7\" >5.9323</td>\n",
       "    </tr>\n",
       "    <tr>\n",
       "      <th id=\"T_07ce3_level0_row10\" class=\"row_heading level0 row10\" >Mean</th>\n",
       "      <td id=\"T_07ce3_row10_col0\" class=\"data row10 col0\" >0.7954</td>\n",
       "      <td id=\"T_07ce3_row10_col1\" class=\"data row10 col1\" >0.8635</td>\n",
       "      <td id=\"T_07ce3_row10_col2\" class=\"data row10 col2\" >0.8280</td>\n",
       "      <td id=\"T_07ce3_row10_col3\" class=\"data row10 col3\" >0.8054</td>\n",
       "      <td id=\"T_07ce3_row10_col4\" class=\"data row10 col4\" >0.8159</td>\n",
       "      <td id=\"T_07ce3_row10_col5\" class=\"data row10 col5\" >0.5858</td>\n",
       "      <td id=\"T_07ce3_row10_col6\" class=\"data row10 col6\" >0.5874</td>\n",
       "      <td id=\"T_07ce3_row10_col7\" class=\"data row10 col7\" >7.0656</td>\n",
       "    </tr>\n",
       "    <tr>\n",
       "      <th id=\"T_07ce3_level0_row11\" class=\"row_heading level0 row11\" >SD</th>\n",
       "      <td id=\"T_07ce3_row11_col0\" class=\"data row11 col0\" >0.0175</td>\n",
       "      <td id=\"T_07ce3_row11_col1\" class=\"data row11 col1\" >0.0189</td>\n",
       "      <td id=\"T_07ce3_row11_col2\" class=\"data row11 col2\" >0.0254</td>\n",
       "      <td id=\"T_07ce3_row11_col3\" class=\"data row11 col3\" >0.0293</td>\n",
       "      <td id=\"T_07ce3_row11_col4\" class=\"data row11 col4\" >0.0141</td>\n",
       "      <td id=\"T_07ce3_row11_col5\" class=\"data row11 col5\" >0.0366</td>\n",
       "      <td id=\"T_07ce3_row11_col6\" class=\"data row11 col6\" >0.0363</td>\n",
       "      <td id=\"T_07ce3_row11_col7\" class=\"data row11 col7\" >0.6042</td>\n",
       "    </tr>\n",
       "  </tbody>\n",
       "</table>\n"
      ],
      "text/plain": [
       "<pandas.io.formats.style.Styler at 0x171e2b43040>"
      ]
     },
     "metadata": {},
     "output_type": "display_data"
    }
   ],
   "source": [
    "lgb = create_model('lightgbm')"
   ]
  },
  {
   "cell_type": "code",
   "execution_count": 14,
   "metadata": {},
   "outputs": [
    {
     "data": {
      "text/html": [
       "<style type=\"text/css\">\n",
       "#T_ef167_row10_col0, #T_ef167_row10_col1, #T_ef167_row10_col2, #T_ef167_row10_col3, #T_ef167_row10_col4, #T_ef167_row10_col5, #T_ef167_row10_col6, #T_ef167_row10_col7 {\n",
       "  background: yellow;\n",
       "}\n",
       "</style>\n",
       "<table id=\"T_ef167\">\n",
       "  <thead>\n",
       "    <tr>\n",
       "      <th class=\"blank level0\" >&nbsp;</th>\n",
       "      <th id=\"T_ef167_level0_col0\" class=\"col_heading level0 col0\" >Accuracy</th>\n",
       "      <th id=\"T_ef167_level0_col1\" class=\"col_heading level0 col1\" >AUC</th>\n",
       "      <th id=\"T_ef167_level0_col2\" class=\"col_heading level0 col2\" >Recall</th>\n",
       "      <th id=\"T_ef167_level0_col3\" class=\"col_heading level0 col3\" >Prec.</th>\n",
       "      <th id=\"T_ef167_level0_col4\" class=\"col_heading level0 col4\" >F1</th>\n",
       "      <th id=\"T_ef167_level0_col5\" class=\"col_heading level0 col5\" >Kappa</th>\n",
       "      <th id=\"T_ef167_level0_col6\" class=\"col_heading level0 col6\" >MCC</th>\n",
       "      <th id=\"T_ef167_level0_col7\" class=\"col_heading level0 col7\" >Log Loss</th>\n",
       "    </tr>\n",
       "  </thead>\n",
       "  <tbody>\n",
       "    <tr>\n",
       "      <th id=\"T_ef167_level0_row0\" class=\"row_heading level0 row0\" >0</th>\n",
       "      <td id=\"T_ef167_row0_col0\" class=\"data row0 col0\" >0.8023</td>\n",
       "      <td id=\"T_ef167_row0_col1\" class=\"data row0 col1\" >0.9007</td>\n",
       "      <td id=\"T_ef167_row0_col2\" class=\"data row0 col2\" >0.8611</td>\n",
       "      <td id=\"T_ef167_row0_col3\" class=\"data row0 col3\" >0.7949</td>\n",
       "      <td id=\"T_ef167_row0_col4\" class=\"data row0 col4\" >0.8267</td>\n",
       "      <td id=\"T_ef167_row0_col5\" class=\"data row0 col5\" >0.5974</td>\n",
       "      <td id=\"T_ef167_row0_col6\" class=\"data row0 col6\" >0.6000</td>\n",
       "      <td id=\"T_ef167_row0_col7\" class=\"data row0 col7\" >6.8291</td>\n",
       "    </tr>\n",
       "    <tr>\n",
       "      <th id=\"T_ef167_level0_row1\" class=\"row_heading level0 row1\" >1</th>\n",
       "      <td id=\"T_ef167_row1_col0\" class=\"data row1 col0\" >0.7719</td>\n",
       "      <td id=\"T_ef167_row1_col1\" class=\"data row1 col1\" >0.8685</td>\n",
       "      <td id=\"T_ef167_row1_col2\" class=\"data row1 col2\" >0.7639</td>\n",
       "      <td id=\"T_ef167_row1_col3\" class=\"data row1 col3\" >0.8088</td>\n",
       "      <td id=\"T_ef167_row1_col4\" class=\"data row1 col4\" >0.7857</td>\n",
       "      <td id=\"T_ef167_row1_col5\" class=\"data row1 col5\" >0.5422</td>\n",
       "      <td id=\"T_ef167_row1_col6\" class=\"data row1 col6\" >0.5433</td>\n",
       "      <td id=\"T_ef167_row1_col7\" class=\"data row1 col7\" >7.8796</td>\n",
       "    </tr>\n",
       "    <tr>\n",
       "      <th id=\"T_ef167_level0_row2\" class=\"row_heading level0 row2\" >2</th>\n",
       "      <td id=\"T_ef167_row2_col0\" class=\"data row2 col0\" >0.7643</td>\n",
       "      <td id=\"T_ef167_row2_col1\" class=\"data row2 col1\" >0.8426</td>\n",
       "      <td id=\"T_ef167_row2_col2\" class=\"data row2 col2\" >0.7917</td>\n",
       "      <td id=\"T_ef167_row2_col3\" class=\"data row2 col3\" >0.7808</td>\n",
       "      <td id=\"T_ef167_row2_col4\" class=\"data row2 col4\" >0.7862</td>\n",
       "      <td id=\"T_ef167_row2_col5\" class=\"data row2 col5\" >0.5235</td>\n",
       "      <td id=\"T_ef167_row2_col6\" class=\"data row2 col6\" >0.5236</td>\n",
       "      <td id=\"T_ef167_row2_col7\" class=\"data row2 col7\" >8.1423</td>\n",
       "    </tr>\n",
       "    <tr>\n",
       "      <th id=\"T_ef167_level0_row3\" class=\"row_heading level0 row3\" >3</th>\n",
       "      <td id=\"T_ef167_row3_col0\" class=\"data row3 col0\" >0.7985</td>\n",
       "      <td id=\"T_ef167_row3_col1\" class=\"data row3 col1\" >0.8850</td>\n",
       "      <td id=\"T_ef167_row3_col2\" class=\"data row3 col2\" >0.7986</td>\n",
       "      <td id=\"T_ef167_row3_col3\" class=\"data row3 col3\" >0.8273</td>\n",
       "      <td id=\"T_ef167_row3_col4\" class=\"data row3 col4\" >0.8127</td>\n",
       "      <td id=\"T_ef167_row3_col5\" class=\"data row3 col5\" >0.5948</td>\n",
       "      <td id=\"T_ef167_row3_col6\" class=\"data row3 col6\" >0.5952</td>\n",
       "      <td id=\"T_ef167_row3_col7\" class=\"data row3 col7\" >6.9604</td>\n",
       "    </tr>\n",
       "    <tr>\n",
       "      <th id=\"T_ef167_level0_row4\" class=\"row_heading level0 row4\" >4</th>\n",
       "      <td id=\"T_ef167_row4_col0\" class=\"data row4 col0\" >0.8175</td>\n",
       "      <td id=\"T_ef167_row4_col1\" class=\"data row4 col1\" >0.8948</td>\n",
       "      <td id=\"T_ef167_row4_col2\" class=\"data row4 col2\" >0.7708</td>\n",
       "      <td id=\"T_ef167_row4_col3\" class=\"data row4 col3\" >0.8810</td>\n",
       "      <td id=\"T_ef167_row4_col4\" class=\"data row4 col4\" >0.8222</td>\n",
       "      <td id=\"T_ef167_row4_col5\" class=\"data row4 col5\" >0.6364</td>\n",
       "      <td id=\"T_ef167_row4_col6\" class=\"data row4 col6\" >0.6424</td>\n",
       "      <td id=\"T_ef167_row4_col7\" class=\"data row4 col7\" >6.3037</td>\n",
       "    </tr>\n",
       "    <tr>\n",
       "      <th id=\"T_ef167_level0_row5\" class=\"row_heading level0 row5\" >5</th>\n",
       "      <td id=\"T_ef167_row5_col0\" class=\"data row5 col0\" >0.8206</td>\n",
       "      <td id=\"T_ef167_row5_col1\" class=\"data row5 col1\" >0.8748</td>\n",
       "      <td id=\"T_ef167_row5_col2\" class=\"data row5 col2\" >0.8881</td>\n",
       "      <td id=\"T_ef167_row5_col3\" class=\"data row5 col3\" >0.8038</td>\n",
       "      <td id=\"T_ef167_row5_col4\" class=\"data row5 col4\" >0.8439</td>\n",
       "      <td id=\"T_ef167_row5_col5\" class=\"data row5 col5\" >0.6343</td>\n",
       "      <td id=\"T_ef167_row5_col6\" class=\"data row5 col6\" >0.6387</td>\n",
       "      <td id=\"T_ef167_row5_col7\" class=\"data row5 col7\" >6.1960</td>\n",
       "    </tr>\n",
       "    <tr>\n",
       "      <th id=\"T_ef167_level0_row6\" class=\"row_heading level0 row6\" >6</th>\n",
       "      <td id=\"T_ef167_row6_col0\" class=\"data row6 col0\" >0.8053</td>\n",
       "      <td id=\"T_ef167_row6_col1\" class=\"data row6 col1\" >0.8634</td>\n",
       "      <td id=\"T_ef167_row6_col2\" class=\"data row6 col2\" >0.8531</td>\n",
       "      <td id=\"T_ef167_row6_col3\" class=\"data row6 col3\" >0.8026</td>\n",
       "      <td id=\"T_ef167_row6_col4\" class=\"data row6 col4\" >0.8271</td>\n",
       "      <td id=\"T_ef167_row6_col5\" class=\"data row6 col5\" >0.6049</td>\n",
       "      <td id=\"T_ef167_row6_col6\" class=\"data row6 col6\" >0.6064</td>\n",
       "      <td id=\"T_ef167_row6_col7\" class=\"data row6 col7\" >6.7233</td>\n",
       "    </tr>\n",
       "    <tr>\n",
       "      <th id=\"T_ef167_level0_row7\" class=\"row_heading level0 row7\" >7</th>\n",
       "      <td id=\"T_ef167_row7_col0\" class=\"data row7 col0\" >0.7748</td>\n",
       "      <td id=\"T_ef167_row7_col1\" class=\"data row7 col1\" >0.8535</td>\n",
       "      <td id=\"T_ef167_row7_col2\" class=\"data row7 col2\" >0.8042</td>\n",
       "      <td id=\"T_ef167_row7_col3\" class=\"data row7 col3\" >0.7877</td>\n",
       "      <td id=\"T_ef167_row7_col4\" class=\"data row7 col4\" >0.7958</td>\n",
       "      <td id=\"T_ef167_row7_col5\" class=\"data row7 col5\" >0.5448</td>\n",
       "      <td id=\"T_ef167_row7_col6\" class=\"data row7 col6\" >0.5450</td>\n",
       "      <td id=\"T_ef167_row7_col7\" class=\"data row7 col7\" >7.7779</td>\n",
       "    </tr>\n",
       "    <tr>\n",
       "      <th id=\"T_ef167_level0_row8\" class=\"row_heading level0 row8\" >8</th>\n",
       "      <td id=\"T_ef167_row8_col0\" class=\"data row8 col0\" >0.7672</td>\n",
       "      <td id=\"T_ef167_row8_col1\" class=\"data row8 col1\" >0.8597</td>\n",
       "      <td id=\"T_ef167_row8_col2\" class=\"data row8 col2\" >0.8531</td>\n",
       "      <td id=\"T_ef167_row8_col3\" class=\"data row8 col3\" >0.7531</td>\n",
       "      <td id=\"T_ef167_row8_col4\" class=\"data row8 col4\" >0.8000</td>\n",
       "      <td id=\"T_ef167_row8_col5\" class=\"data row8 col5\" >0.5240</td>\n",
       "      <td id=\"T_ef167_row8_col6\" class=\"data row8 col6\" >0.5299</td>\n",
       "      <td id=\"T_ef167_row8_col7\" class=\"data row8 col7\" >8.0416</td>\n",
       "    </tr>\n",
       "    <tr>\n",
       "      <th id=\"T_ef167_level0_row9\" class=\"row_heading level0 row9\" >9</th>\n",
       "      <td id=\"T_ef167_row9_col0\" class=\"data row9 col0\" >0.8053</td>\n",
       "      <td id=\"T_ef167_row9_col1\" class=\"data row9 col1\" >0.8556</td>\n",
       "      <td id=\"T_ef167_row9_col2\" class=\"data row9 col2\" >0.8194</td>\n",
       "      <td id=\"T_ef167_row9_col3\" class=\"data row9 col3\" >0.8252</td>\n",
       "      <td id=\"T_ef167_row9_col4\" class=\"data row9 col4\" >0.8223</td>\n",
       "      <td id=\"T_ef167_row9_col5\" class=\"data row9 col5\" >0.6071</td>\n",
       "      <td id=\"T_ef167_row9_col6\" class=\"data row9 col6\" >0.6071</td>\n",
       "      <td id=\"T_ef167_row9_col7\" class=\"data row9 col7\" >6.7233</td>\n",
       "    </tr>\n",
       "    <tr>\n",
       "      <th id=\"T_ef167_level0_row10\" class=\"row_heading level0 row10\" >Mean</th>\n",
       "      <td id=\"T_ef167_row10_col0\" class=\"data row10 col0\" >0.7928</td>\n",
       "      <td id=\"T_ef167_row10_col1\" class=\"data row10 col1\" >0.8699</td>\n",
       "      <td id=\"T_ef167_row10_col2\" class=\"data row10 col2\" >0.8204</td>\n",
       "      <td id=\"T_ef167_row10_col3\" class=\"data row10 col3\" >0.8065</td>\n",
       "      <td id=\"T_ef167_row10_col4\" class=\"data row10 col4\" >0.8123</td>\n",
       "      <td id=\"T_ef167_row10_col5\" class=\"data row10 col5\" >0.5810</td>\n",
       "      <td id=\"T_ef167_row10_col6\" class=\"data row10 col6\" >0.5832</td>\n",
       "      <td id=\"T_ef167_row10_col7\" class=\"data row10 col7\" >7.1577</td>\n",
       "    </tr>\n",
       "    <tr>\n",
       "      <th id=\"T_ef167_level0_row11\" class=\"row_heading level0 row11\" >SD</th>\n",
       "      <td id=\"T_ef167_row11_col0\" class=\"data row11 col0\" >0.0201</td>\n",
       "      <td id=\"T_ef167_row11_col1\" class=\"data row11 col1\" >0.0179</td>\n",
       "      <td id=\"T_ef167_row11_col2\" class=\"data row11 col2\" >0.0395</td>\n",
       "      <td id=\"T_ef167_row11_col3\" class=\"data row11 col3\" >0.0322</td>\n",
       "      <td id=\"T_ef167_row11_col4\" class=\"data row11 col4\" >0.0185</td>\n",
       "      <td id=\"T_ef167_row11_col5\" class=\"data row11 col5\" >0.0412</td>\n",
       "      <td id=\"T_ef167_row11_col6\" class=\"data row11 col6\" >0.0419</td>\n",
       "      <td id=\"T_ef167_row11_col7\" class=\"data row11 col7\" >0.6954</td>\n",
       "    </tr>\n",
       "  </tbody>\n",
       "</table>\n"
      ],
      "text/plain": [
       "<pandas.io.formats.style.Styler at 0x171a19096a0>"
      ]
     },
     "metadata": {},
     "output_type": "display_data"
    }
   ],
   "source": [
    "tuned_ = tune_model(lgb)"
   ]
  },
  {
   "cell_type": "code",
   "execution_count": 16,
   "metadata": {},
   "outputs": [
    {
     "data": {
      "application/vnd.jupyter.widget-view+json": {
       "model_id": "ec551d4c440e4dc586e7db5a4975eef9",
       "version_major": 2,
       "version_minor": 0
      },
      "text/plain": [
       "interactive(children=(ToggleButtons(description='Plot Type:', icons=('',), options=(('Hyperparameters', 'param…"
      ]
     },
     "metadata": {},
     "output_type": "display_data"
    }
   ],
   "source": [
    "evaluate_model(lgb)"
   ]
  },
  {
   "cell_type": "code",
   "execution_count": null,
   "metadata": {},
   "outputs": [],
   "source": []
  }
 ],
 "metadata": {
  "interpreter": {
   "hash": "2263482e9e3980ad749812830eaaef587a1761f9cc929f45d23331248bfc5df5"
  },
  "kernelspec": {
   "display_name": "Python 3.8 - AzureML",
   "language": "python",
   "name": "python38-azureml"
  },
  "language_info": {
   "codemirror_mode": {
    "name": "ipython",
    "version": 3
   },
   "file_extension": ".py",
   "mimetype": "text/x-python",
   "name": "python",
   "nbconvert_exporter": "python",
   "pygments_lexer": "ipython3",
   "version": "3.8.1"
  }
 },
 "nbformat": 4,
 "nbformat_minor": 4
}
