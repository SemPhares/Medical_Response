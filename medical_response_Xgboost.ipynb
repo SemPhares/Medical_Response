{
 "cells": [
  {
   "cell_type": "code",
   "execution_count": 24,
   "metadata": {},
   "outputs": [],
   "source": [
    "import warnings\n",
    "warnings.filterwarnings('ignore')\n",
    "from xgboost import XGBClassifier\n",
    "from sklearn.model_selection import train_test_split\n",
    "from sklearn.metrics import accuracy_score, log_loss, classification_report\n",
    "from matplotlib import pyplot as plt\n",
    "import pandas as pd\n",
    "import numpy as np"
   ]
  },
  {
   "cell_type": "code",
   "execution_count": 25,
   "metadata": {},
   "outputs": [],
   "source": [
    "train = pd.read_csv(\"train.csv\")\n",
    "test = pd.read_csv('test.csv')"
   ]
  },
  {
   "cell_type": "code",
   "execution_count": 6,
   "metadata": {},
   "outputs": [],
   "source": [
    "non_binaries = [col for col in train.columns if len(train[col].unique().tolist())>2]\n",
    "binaries = [col for col in train.columns if not col in non_binaries]"
   ]
  },
  {
   "cell_type": "code",
   "execution_count": 26,
   "metadata": {},
   "outputs": [],
   "source": [
    "x = train.drop('Activity', axis=1)\n",
    "y = train.Activity\n",
    "# split data into train and test sets\n",
    "# X_train, X_test, y_train, y_test = train_test_split(x,y, test_size=0.3, random_state=42)"
   ]
  },
  {
   "cell_type": "code",
   "execution_count": 27,
   "metadata": {},
   "outputs": [],
   "source": [
    "# fit model no training data\n",
    "def fit_eval(X_train,y_train,X_test,y_test, model,early_stopping=0):\n",
    "    eval_set = [(X_train, y_train), (X_test, y_test)]\n",
    "    if early_stopping>0:\n",
    "        model.fit(X_train, y_train, eval_metric=[\"logloss\"],early_stopping_rounds=early_stopping,eval_set=eval_set, verbose=False)\n",
    "    else:\n",
    "        model.fit(X_train, y_train, eval_metric=[\"logloss\"],eval_set=eval_set, verbose=False)\n",
    "    # make predictions for test data\n",
    "    y_pred = model.predict(X_test)\n",
    "    predictions = [round(value) for value in y_pred]\n",
    "    # evaluate predictions\n",
    "    accuracy = accuracy_score(y_test, predictions)\n",
    "    print(\"Accuracy: %.2f%%\" % (accuracy * 100.0))\n",
    "    # print(classification_report(y_test, y_pred))\n",
    "\n",
    "    # retrieve performance metrics\n",
    "    results = model.evals_result()\n",
    "    epochs = len(results['validation_0']['logloss'])\n",
    "    x_axis = range(0, epochs)\n",
    "    # plot log loss\n",
    "    fig, ax = plt.subplots()\n",
    "    ax.plot(x_axis, results['validation_0']['logloss'], label='Train')\n",
    "    ax.plot(x_axis, results['validation_1']['logloss'], label='Test')\n",
    "    ax.legend()\n",
    "    plt.ylabel('Log Loss')\n",
    "    plt.title('XGBoost Log Loss')\n",
    "    plt.show()"
   ]
  },
  {
   "cell_type": "code",
   "execution_count": null,
   "metadata": {},
   "outputs": [],
   "source": [
    "model = XGBClassifier(n_estimators=200, max_depth=4, learning_rate= 0.1,eval_metric = log_loss, gamma = 0.001, learning_rate = 0.1 , reg_alpha = 2, reg_lambda = 3)\n",
    "# fit_eval(X_train,y_train,X_test,y_test, model)"
   ]
  },
  {
   "cell_type": "code",
   "execution_count": 13,
   "metadata": {},
   "outputs": [],
   "source": [
    "model = XGBClassifier(n_estimators = 200, max_depth = 5,reg_alpha = 5, reg_lambda = 8,learning_rate=0.005)\n",
    "# fit_eval(X_train,y_train,X_test,y_test, model)"
   ]
  },
  {
   "cell_type": "code",
   "execution_count": 39,
   "metadata": {},
   "outputs": [
    {
     "name": "stdout",
     "output_type": "stream",
     "text": [
      "Accuracy: 79.48%\n",
      "              precision    recall  f1-score   support\n",
      "\n",
      "           0       0.77      0.77      0.77       495\n",
      "           1       0.82      0.82      0.82       631\n",
      "\n",
      "    accuracy                           0.79      1126\n",
      "   macro avg       0.79      0.79      0.79      1126\n",
      "weighted avg       0.79      0.79      0.79      1126\n",
      "\n"
     ]
    },
    {
     "data": {
      "image/png": "[encoded data removed]",
      "text/plain": [
       "<Figure size 432x288 with 1 Axes>"
      ]
     },
     "metadata": {
      "needs_background": "light"
     },
     "output_type": "display_data"
    }
   ],
   "source": [
    "fit_eval(X_train,y_train,X_test,y_test, model, early_stopping=20)"
   ]
  },
  {
   "cell_type": "code",
   "execution_count": 28,
   "metadata": {},
   "outputs": [],
   "source": [
    "from sklearn.model_selection import StratifiedKFold"
   ]
  },
  {
   "cell_type": "code",
   "execution_count": 44,
   "metadata": {},
   "outputs": [
    {
     "name": "stdout",
     "output_type": "stream",
     "text": [
      "Params: n_estimators:300, max_depth:5, lr:0.001; mean loss 0.6171719222827747\n",
      "Params: n_estimators:300, max_depth:6, lr:0.001; mean loss 0.6162111761917182\n",
      "Params: n_estimators:300, max_depth:5, lr:0.05; mean loss 0.5586319155989147\n",
      "Params: n_estimators:300, max_depth:6, lr:0.05; mean loss 0.5310941837590661\n",
      "Params: n_estimators:300, max_depth:5, lr:0.1; mean loss 0.5180614601475676\n",
      "Params: n_estimators:300, max_depth:6, lr:0.1; mean loss 0.5111987948281824\n",
      "Params: n_estimators:600, max_depth:5, lr:0.001; mean loss 0.5198588579059019\n",
      "Params: n_estimators:600, max_depth:6, lr:0.001; mean loss 0.5258998880323932\n",
      "Params: n_estimators:600, max_depth:5, lr:0.05; mean loss 0.5188828760285531\n",
      "Params: n_estimators:600, max_depth:6, lr:0.05; mean loss 0.51438664540287\n",
      "Params: n_estimators:600, max_depth:5, lr:0.1; mean loss 0.5114738022838108\n",
      "Params: n_estimators:600, max_depth:6, lr:0.1; mean loss 0.5088134273171268\n"
     ]
    }
   ],
   "source": [
    "kf = StratifiedKFold(n_splits=5,random_state=42, shuffle=True)\n",
    "CV_loss_array    =[]\n",
    "estimators = [300,600]\n",
    "max_depths = [5,6]\n",
    "lrs = [0.001,0.05,0.1] \n",
    "for estimator in estimators:\n",
    "    for lr in lrs :\n",
    "        for depth in max_depths:\n",
    "\n",
    "            model = XGBClassifier(n_estimators=estimator, max_depth=depth, learning_rate= lr,eval_metric = log_loss, gamma = 0.001 , reg_alpha = 2, reg_lambda = 4)\n",
    "\n",
    "            for train_index, test_index in kf.split(x,y):\n",
    "                X_tr, X_valid = x.values[train_index], x.values[test_index]\n",
    "                y_tr, y_valid = y.values[train_index], y.values[test_index]\n",
    "        \n",
    "                model.fit(X_tr,y_tr,\n",
    "                        eval_set=[(X_tr, y_tr), (X_valid, y_valid)],\n",
    "                        verbose=False)\n",
    "\n",
    "            # results = model.evals_result()\n",
    "            # epochs = len(results['validation_0']['logloss'])\n",
    "            # x_axis = range(0, epochs)\n",
    "            # # plot log loss\n",
    "            # fig, ax = plt.subplots()\n",
    "            # ax.plot(x_axis, results['validation_0']['logloss'], label='Train')\n",
    "            # ax.plot(x_axis, results['validation_1']['logloss'], label='Test')\n",
    "            # ax.legend()\n",
    "            # plt.ylabel('Log Loss')\n",
    "            # plt.title(f'XGBoost Log Loss n_estimators:{estimator}, lr:{lr}')\n",
    "            # plt.show()  \n",
    "                probas_train = model.predict_proba(X_valid)[:,1]                 \n",
    "                CV_loss_array.append(log_loss(y_valid,probas_train))\n",
    "            print(f'Params: n_estimators:{estimator}, max_depth:{depth}, lr:{lr}; mean loss {np.mean(CV_loss_array)}')"
   ]
  },
  {
   "cell_type": "code",
   "execution_count": null,
   "metadata": {},
   "outputs": [],
   "source": []
  },
  {
   "cell_type": "code",
   "execution_count": null,
   "metadata": {},
   "outputs": [],
   "source": []
  },
  {
   "cell_type": "markdown",
   "metadata": {},
   "source": [
    "## Submission"
   ]
  },
  {
   "cell_type": "code",
   "execution_count": 234,
   "metadata": {},
   "outputs": [],
   "source": [
    "probas = model.predict_proba(test)[:,1]\n",
    "submission = pd.DataFrame({'MoleculeId':[x for x in range(1,len(test)+1)],'PredictedProbability':probas})\n",
    "submission.to_csv('submission_xgboost_regul.csv',index=False)"
   ]
  }
 ],
 "metadata": {
  "interpreter": {
   "hash": "b41fb2f07a74c2bf47d871ac6eab22923e538709a14f0781c29779b95a1e365d"
  },
  "kernelspec": {
   "display_name": "Python 3.8.5 ('base')",
   "language": "python",
   "name": "python3"
  },
  "language_info": {
   "codemirror_mode": {
    "name": "ipython",
    "version": 3
   },
   "file_extension": ".py",
   "mimetype": "text/x-python",
   "name": "python",
   "nbconvert_exporter": "python",
   "pygments_lexer": "ipython3",
   "version": "3.8.5"
  },
  "orig_nbformat": 4
 },
 "nbformat": 4,
 "nbformat_minor": 2
}
